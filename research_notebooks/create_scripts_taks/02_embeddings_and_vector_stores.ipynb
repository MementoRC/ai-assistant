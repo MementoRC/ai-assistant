{
 "cells": [
  {
   "cell_type": "code",
   "execution_count": 103,
   "metadata": {
    "collapsed": true,
    "ExecuteTime": {
     "end_time": "2023-11-15T02:45:12.674360Z",
     "start_time": "2023-11-15T02:45:12.670564Z"
    }
   },
   "outputs": [],
   "source": [
    "import os\n",
    "import CONFIG\n",
    "from pprint import pprint\n",
    "\n",
    "\n",
    "os.environ[\"OPENAI_API_KEY\"] = CONFIG.OPENAI_API_KEY"
   ]
  },
  {
   "cell_type": "markdown",
   "source": [
    "# Split Hummingbot Scripts\n",
    "\n",
    "I'm going to use the same config of the previous notebook"
   ],
   "metadata": {
    "collapsed": false
   }
  },
  {
   "cell_type": "code",
   "execution_count": 104,
   "outputs": [],
   "source": [
    "from langchain.text_splitter import Language, RecursiveCharacterTextSplitter\n",
    "from langchain.document_loaders.parsers import LanguageParser\n",
    "from langchain.document_loaders.generic import GenericLoader\n",
    "\n",
    "repo_path = \"/Users/dardonacci/Documents/work/hummingbot/scripts\"\n",
    "chunk_size = 2000\n",
    "chunk_overlap = 400\n",
    "\n",
    "\n",
    "loader = GenericLoader.from_filesystem(\n",
    "            path=repo_path,\n",
    "            glob=\"**/*.py\",\n",
    "            suffixes=[\".py\"],\n",
    "            parser=LanguageParser(language=Language.PYTHON),\n",
    "        )\n",
    "python_splitter = RecursiveCharacterTextSplitter.from_language(\n",
    "    language=Language.PYTHON, chunk_size=chunk_size, chunk_overlap=chunk_overlap\n",
    ")\n",
    "\n",
    "hummingbot_codebase = loader.load()\n",
    "hummingbot_codebase_docs = python_splitter.split_documents(hummingbot_codebase)"
   ],
   "metadata": {
    "collapsed": false,
    "ExecuteTime": {
     "end_time": "2023-11-15T02:45:13.258327Z",
     "start_time": "2023-11-15T02:45:13.109682Z"
    }
   }
  },
  {
   "cell_type": "code",
   "execution_count": 105,
   "outputs": [
    {
     "data": {
      "text/plain": "283"
     },
     "execution_count": 105,
     "metadata": {},
     "output_type": "execute_result"
    }
   ],
   "source": [
    "len(hummingbot_codebase_docs)"
   ],
   "metadata": {
    "collapsed": false,
    "ExecuteTime": {
     "end_time": "2023-11-15T02:45:13.325763Z",
     "start_time": "2023-11-15T02:45:13.323038Z"
    }
   }
  },
  {
   "cell_type": "markdown",
   "source": [
    "# Learnings from Chroma\n",
    "\n",
    "* The when you call Chroma.from_documents will create a new collection in the DB\n",
    "* If you create an instance of Chroma, you can specify the collection name to only retrieve that one.\n",
    "* You need an embedding function\n",
    "* The persist directory should be the same for all\n",
    "* If you call again Chroma.from_documents it's going to append more documents to the same collection\n",
    "* If you want to start over you can call the method delete_collection()"
   ],
   "metadata": {
    "collapsed": false
   }
  },
  {
   "cell_type": "code",
   "execution_count": 106,
   "outputs": [],
   "source": [
    "from langchain.embeddings import OpenAIEmbeddings\n",
    "from langchain.vectorstores import Chroma\n",
    "\n",
    "persist_directory = \"/Users/dardonacci/Documents/dardonacci/2-Code/metabrain/vector_stores/hummingbot/chroma/\"\n",
    "\n",
    "embedding = OpenAIEmbeddings()\n",
    "\n",
    "vectordb = Chroma.from_documents(\n",
    "    collection_name=\"hummingbot_scripts\",\n",
    "    collection_metadata={\n",
    "        \"Description\": \"This files are examples of the type of output that is requested when asking for writing scripts.\"\n",
    "    },\n",
    "    documents=hummingbot_codebase_docs,\n",
    "    embedding=embedding,\n",
    "    persist_directory=persist_directory\n",
    ")"
   ],
   "metadata": {
    "collapsed": false,
    "ExecuteTime": {
     "end_time": "2023-11-15T02:45:18.719793Z",
     "start_time": "2023-11-15T02:45:14.223854Z"
    }
   }
  },
  {
   "cell_type": "code",
   "execution_count": 107,
   "outputs": [
    {
     "data": {
      "text/plain": "Collection(name=hummingbot_scripts)"
     },
     "execution_count": 107,
     "metadata": {},
     "output_type": "execute_result"
    }
   ],
   "source": [
    "vectordb._collection"
   ],
   "metadata": {
    "collapsed": false,
    "ExecuteTime": {
     "end_time": "2023-11-15T02:45:18.722948Z",
     "start_time": "2023-11-15T02:45:18.721001Z"
    }
   }
  },
  {
   "cell_type": "code",
   "execution_count": 102,
   "outputs": [],
   "source": [
    "# vectordb.delete_collection()"
   ],
   "metadata": {
    "collapsed": false,
    "ExecuteTime": {
     "end_time": "2023-11-15T02:45:08.529664Z",
     "start_time": "2023-11-15T02:45:08.496920Z"
    }
   }
  },
  {
   "cell_type": "code",
   "execution_count": 108,
   "outputs": [
    {
     "data": {
      "text/plain": "283"
     },
     "execution_count": 108,
     "metadata": {},
     "output_type": "execute_result"
    }
   ],
   "source": [
    "vectordb._collection.count()"
   ],
   "metadata": {
    "collapsed": false,
    "ExecuteTime": {
     "end_time": "2023-11-15T02:45:19.648149Z",
     "start_time": "2023-11-15T02:45:19.634906Z"
    }
   }
  },
  {
   "cell_type": "code",
   "execution_count": 101,
   "outputs": [
    {
     "data": {
      "text/plain": "{'Description': 'This files are examples of the type of output that is requested when asking for writing scripts.'}"
     },
     "execution_count": 101,
     "metadata": {},
     "output_type": "execute_result"
    }
   ],
   "source": [
    "vectordb._collection.metadata"
   ],
   "metadata": {
    "collapsed": false,
    "ExecuteTime": {
     "end_time": "2023-11-15T02:05:02.906402Z",
     "start_time": "2023-11-15T02:05:02.887198Z"
    }
   }
  },
  {
   "cell_type": "code",
   "execution_count": null,
   "outputs": [],
   "source": [],
   "metadata": {
    "collapsed": false
   }
  }
 ],
 "metadata": {
  "kernelspec": {
   "display_name": "Python 3",
   "language": "python",
   "name": "python3"
  },
  "language_info": {
   "codemirror_mode": {
    "name": "ipython",
    "version": 2
   },
   "file_extension": ".py",
   "mimetype": "text/x-python",
   "name": "python",
   "nbconvert_exporter": "python",
   "pygments_lexer": "ipython2",
   "version": "2.7.6"
  }
 },
 "nbformat": 4,
 "nbformat_minor": 0
}
