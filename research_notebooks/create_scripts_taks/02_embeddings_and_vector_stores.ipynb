{
 "cells": [
  {
   "cell_type": "code",
   "execution_count": null,
   "metadata": {
    "collapsed": true
   },
   "outputs": [],
   "source": [
    "import os\n",
    "from dotenv import load_dotenv\n",
    "\n",
    "load_dotenv()\n",
    "\n",
    "os.environ[\"OPENAI_API_KEY\"]  # you should see the api key if the .env file is loaded correctly"
   ]
  },
  {
   "cell_type": "markdown",
   "source": [
    "# Split Hummingbot Scripts\n",
    "\n",
    "I'm going to use the same config of the previous notebook"
   ],
   "metadata": {
    "collapsed": false
   }
  },
  {
   "cell_type": "code",
   "execution_count": 2,
   "outputs": [],
   "source": [
    "from langchain.text_splitter import Language, RecursiveCharacterTextSplitter\n",
    "from langchain.document_loaders.parsers import LanguageParser\n",
    "from langchain.document_loaders.generic import GenericLoader\n",
    "\n",
    "repo_path = \"/Users/dardonacci/Documents/work/hummingbot/scripts\"  # path to the repo or folder of interest\n",
    "chunk_size = 2000\n",
    "chunk_overlap = 400\n",
    "\n",
    "\n",
    "loader = GenericLoader.from_filesystem(\n",
    "            path=repo_path,\n",
    "            glob=\"**/*.py\",\n",
    "            suffixes=[\".py\"],\n",
    "            parser=LanguageParser(language=Language.PYTHON),\n",
    "        )\n",
    "python_splitter = RecursiveCharacterTextSplitter.from_language(\n",
    "    language=Language.PYTHON, chunk_size=chunk_size, chunk_overlap=chunk_overlap\n",
    ")\n",
    "\n",
    "hummingbot_codebase = loader.load()\n",
    "hummingbot_codebase_docs = python_splitter.split_documents(hummingbot_codebase)"
   ],
   "metadata": {
    "collapsed": false,
    "ExecuteTime": {
     "end_time": "2023-11-28T17:13:09.694821Z",
     "start_time": "2023-11-28T17:13:09.217613Z"
    }
   }
  },
  {
   "cell_type": "code",
   "execution_count": 3,
   "outputs": [
    {
     "data": {
      "text/plain": "299"
     },
     "execution_count": 3,
     "metadata": {},
     "output_type": "execute_result"
    }
   ],
   "source": [
    "len(hummingbot_codebase_docs)"
   ],
   "metadata": {
    "collapsed": false,
    "ExecuteTime": {
     "end_time": "2023-11-28T17:13:09.697942Z",
     "start_time": "2023-11-28T17:13:09.695528Z"
    }
   }
  },
  {
   "cell_type": "markdown",
   "source": [
    "# Learnings from Chroma\n",
    "\n",
    "* The when you call Chroma.from_documents will create a new collection in the DB\n",
    "* If you create an instance of Chroma, you can specify the collection name to only retrieve that one.\n",
    "* You need an embedding function\n",
    "* The persist directory should be the same for all\n",
    "* If you call again Chroma.from_documents it's going to append more documents to the same collection\n",
    "* If you want to start over you can call the method delete_collection()"
   ],
   "metadata": {
    "collapsed": false
   }
  },
  {
   "cell_type": "code",
   "execution_count": 4,
   "outputs": [],
   "source": [
    "from langchain.embeddings import OpenAIEmbeddings\n",
    "from langchain.vectorstores import Chroma\n",
    "\n",
    "persist_directory = \"/Users/dardonacci/Documents/dardonacci/2-Code/metabrain/vector_stores/hummingbot/chroma/\"\n",
    "\n",
    "embedding = OpenAIEmbeddings()\n",
    "\n",
    "vectordb = Chroma.from_documents(\n",
    "    collection_name=\"hummingbot_scripts\",\n",
    "    collection_metadata={\n",
    "        \"Description\": \"This files are examples of the type of output that is requested when asking for writing scripts.\"\n",
    "    },\n",
    "    documents=hummingbot_codebase_docs,\n",
    "    embedding=embedding,\n",
    "    persist_directory=persist_directory\n",
    ")"
   ],
   "metadata": {
    "collapsed": false,
    "ExecuteTime": {
     "end_time": "2023-11-28T17:13:22.366766Z",
     "start_time": "2023-11-28T17:13:10.555827Z"
    }
   }
  },
  {
   "cell_type": "code",
   "execution_count": 5,
   "outputs": [
    {
     "data": {
      "text/plain": "Collection(name=hummingbot_scripts)"
     },
     "execution_count": 5,
     "metadata": {},
     "output_type": "execute_result"
    }
   ],
   "source": [
    "vectordb._collection"
   ],
   "metadata": {
    "collapsed": false,
    "ExecuteTime": {
     "end_time": "2023-11-28T17:13:24.276428Z",
     "start_time": "2023-11-28T17:13:24.273314Z"
    }
   }
  },
  {
   "cell_type": "code",
   "execution_count": 6,
   "outputs": [],
   "source": [
    "# vectordb.delete_collection()"
   ],
   "metadata": {
    "collapsed": false,
    "ExecuteTime": {
     "end_time": "2023-11-28T17:13:25.021207Z",
     "start_time": "2023-11-28T17:13:25.017748Z"
    }
   }
  },
  {
   "cell_type": "code",
   "execution_count": 7,
   "outputs": [
    {
     "data": {
      "text/plain": "582"
     },
     "execution_count": 7,
     "metadata": {},
     "output_type": "execute_result"
    }
   ],
   "source": [
    "vectordb._collection.count()"
   ],
   "metadata": {
    "collapsed": false,
    "ExecuteTime": {
     "end_time": "2023-11-28T17:13:25.231938Z",
     "start_time": "2023-11-28T17:13:25.226740Z"
    }
   }
  },
  {
   "cell_type": "code",
   "execution_count": 101,
   "outputs": [
    {
     "data": {
      "text/plain": "{'Description': 'This files are examples of the type of output that is requested when asking for writing scripts.'}"
     },
     "execution_count": 101,
     "metadata": {},
     "output_type": "execute_result"
    }
   ],
   "source": [
    "vectordb._collection.metadata"
   ],
   "metadata": {
    "collapsed": false,
    "ExecuteTime": {
     "end_time": "2023-11-15T02:05:02.906402Z",
     "start_time": "2023-11-15T02:05:02.887198Z"
    }
   }
  }
 ],
 "metadata": {
  "kernelspec": {
   "display_name": "Python 3",
   "language": "python",
   "name": "python3"
  },
  "language_info": {
   "codemirror_mode": {
    "name": "ipython",
    "version": 2
   },
   "file_extension": ".py",
   "mimetype": "text/x-python",
   "name": "python",
   "nbconvert_exporter": "python",
   "pygments_lexer": "ipython2",
   "version": "2.7.6"
  }
 },
 "nbformat": 4,
 "nbformat_minor": 0
}
