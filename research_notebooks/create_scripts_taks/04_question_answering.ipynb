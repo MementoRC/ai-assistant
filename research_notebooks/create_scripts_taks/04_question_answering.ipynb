{
 "cells": [
  {
   "cell_type": "code",
   "execution_count": null,
   "metadata": {
    "collapsed": true
   },
   "outputs": [],
   "source": [
    "from pprint import pprint\n",
    "from langchain.vectorstores.chroma import Chroma\n",
    "from langchain.embeddings import OpenAIEmbeddings\n",
    "from langchain.chat_models import ChatOpenAI\n",
    "from langchain.chains import RetrievalQA\n",
    "from langchain.prompts import PromptTemplate\n",
    "\n",
    "import os\n",
    "from dotenv import load_dotenv\n",
    "\n",
    "load_dotenv()\n",
    "\n",
    "llm_name = \"gpt-4-1106-preview\"\n",
    "os.environ[\"OPENAI_API_KEY\"]  # you should see the api key if the .env file is loaded correctly"
   ]
  },
  {
   "cell_type": "code",
   "execution_count": 2,
   "outputs": [],
   "source": [
    "persist_directory = \"/Users/dardonacci/Documents/dardonacci/2-Code/metabrain/vector_stores/hummingbot/chroma/\"\n",
    "\n",
    "embedding = OpenAIEmbeddings()\n",
    "\n",
    "vectordb = Chroma(\n",
    "    collection_name=\"hummingbot_scripts\",\n",
    "    persist_directory=persist_directory,\n",
    "    embedding_function=embedding\n",
    ")"
   ],
   "metadata": {
    "collapsed": false,
    "ExecuteTime": {
     "end_time": "2023-11-28T17:16:20.451575Z",
     "start_time": "2023-11-28T17:16:20.199463Z"
    }
   }
  },
  {
   "cell_type": "markdown",
   "source": [
    "# Prompts"
   ],
   "metadata": {
    "collapsed": false
   }
  },
  {
   "cell_type": "code",
   "execution_count": 3,
   "outputs": [],
   "source": [
    "# Build prompt\n",
    "template = \"\"\"Use the following pieces of context to answer the question at the end. If you don't know the answer, just say that you don't know, don't try to make up an answer. You need to create the full code for the script that the user is asking for. If you think that more information is needed, ask the user for it.\n",
    "{context}\n",
    "Question: {question}\n",
    "Helpful Answer:\"\"\"\n",
    "prompt = PromptTemplate.from_template(template)"
   ],
   "metadata": {
    "collapsed": false,
    "ExecuteTime": {
     "end_time": "2023-11-28T17:16:20.519586Z",
     "start_time": "2023-11-28T17:16:20.513416Z"
    }
   }
  },
  {
   "cell_type": "code",
   "execution_count": 4,
   "outputs": [],
   "source": [
    "llm = ChatOpenAI(model_name=llm_name, temperature=0)\n",
    "qa_chain = RetrievalQA.from_chain_type(\n",
    "    llm=llm,\n",
    "    retriever=vectordb.as_retriever(search_type=\"mmr\", k=5, fetch_k=10),\n",
    "    chain_type=\"stuff\",\n",
    "    return_source_documents=True,\n",
    "    chain_type_kwargs={\"prompt\": prompt}\n",
    ")"
   ],
   "metadata": {
    "collapsed": false,
    "ExecuteTime": {
     "end_time": "2023-11-28T17:16:20.656123Z",
     "start_time": "2023-11-28T17:16:20.652104Z"
    }
   }
  },
  {
   "cell_type": "code",
   "execution_count": 5,
   "outputs": [],
   "source": [
    "query = \"\"\"I would like to create a Directional Strategy using Hummingbot using the MACDBB controller. Can you the script for me and suggest values for the indicators?\n",
    "\"\"\""
   ],
   "metadata": {
    "collapsed": false,
    "ExecuteTime": {
     "end_time": "2023-11-28T17:16:20.828992Z",
     "start_time": "2023-11-28T17:16:20.826205Z"
    }
   }
  },
  {
   "cell_type": "code",
   "execution_count": 6,
   "outputs": [],
   "source": [
    "result = qa_chain({\"query\": query})"
   ],
   "metadata": {
    "collapsed": false,
    "ExecuteTime": {
     "end_time": "2023-11-28T17:17:08.064229Z",
     "start_time": "2023-11-28T17:16:21.452939Z"
    }
   }
  },
  {
   "cell_type": "code",
   "execution_count": 7,
   "outputs": [
    {
     "name": "stdout",
     "output_type": "stream",
     "text": [
      "('Based on your request, you want to create a Directional Strategy using '\n",
      " 'Hummingbot with the MACDBB controller. Below is a script that sets up a '\n",
      " 'basic directional strategy using the MACDBB controller. Please note that the '\n",
      " 'values for the MACD and Bollinger Bands indicators are just examples, and '\n",
      " 'you should adjust them according to your trading preferences and backtesting '\n",
      " 'results.\\n'\n",
      " '\\n'\n",
      " '```python\\n'\n",
      " 'from decimal import Decimal\\n'\n",
      " 'from typing import Dict, List\\n'\n",
      " 'from collections import deque\\n'\n",
      " 'import datetime\\n'\n",
      " '\\n'\n",
      " 'from hummingbot.connector.connector_base import ConnectorBase\\n'\n",
      " 'from hummingbot.core.data_type.common import OrderType\\n'\n",
      " 'from hummingbot.data_feed.candles_feed.candles_factory import '\n",
      " 'CandlesFactory, CandlesConfig\\n'\n",
      " 'from hummingbot.smart_components.controllers.macd_bb_v1 import MACDBBV1, '\n",
      " 'MACDBBV1Config\\n'\n",
      " 'from hummingbot.strategy.script_strategy_base import ScriptStrategyBase\\n'\n",
      " 'from hummingbot.core.event.events import MarketEvent, BuyOrderCreatedEvent, '\n",
      " 'SellOrderCreatedEvent, OrderFilledEvent\\n'\n",
      " '\\n'\n",
      " 'class MACDBBDirectionalStrategy(ScriptStrategyBase):\\n'\n",
      " '    trading_pair = \"BTC-USDT\"\\n'\n",
      " '    exchange = \"binance_perpetual\"\\n'\n",
      " '    max_executors = 1\\n'\n",
      " '    active_executors: List[PositionExecutor] = []\\n'\n",
      " '    stored_executors: Deque[PositionExecutor] = deque(maxlen=10)\\n'\n",
      " '    \\n'\n",
      " '    # MACDBB Configuration\\n'\n",
      " '    macd_fast_period = 12\\n'\n",
      " '    macd_slow_period = 26\\n'\n",
      " '    macd_signal_period = 9\\n'\n",
      " '    bb_bands_period = 20\\n'\n",
      " '    bb_std_dev_multiplier = 2\\n'\n",
      " '    \\n'\n",
      " '    # Strategy specific parameters\\n'\n",
      " '    leverage = 20\\n'\n",
      " '    order_amount_usd = Decimal(\"100\")\\n'\n",
      " '    \\n'\n",
      " '    def __init__(self, connectors: Dict[str, ConnectorBase]):\\n'\n",
      " '        super().__init__(connectors)\\n'\n",
      " '        self.macd_bb_controller = MACDBBV1(\\n'\n",
      " '            MACDBBV1Config(\\n'\n",
      " '                fast_period=self.macd_fast_period,\\n'\n",
      " '                slow_period=self.macd_slow_period,\\n'\n",
      " '                signal_period=self.macd_signal_period,\\n'\n",
      " '                bb_bands_period=self.bb_bands_period,\\n'\n",
      " '                bb_std_dev_multiplier=self.bb_std_dev_multiplier\\n'\n",
      " '            )\\n'\n",
      " '        )\\n'\n",
      " '        self.candles = CandlesFactory.get_candle(\\n'\n",
      " '            CandlesConfig(\\n'\n",
      " '                connector=self.exchange,\\n'\n",
      " '                trading_pair=self.trading_pair,\\n'\n",
      " '                interval=\"5m\",\\n'\n",
      " '                max_records=1000\\n'\n",
      " '            )\\n'\n",
      " '        )\\n'\n",
      " '        self.candles.start()\\n'\n",
      " '        self.macd_bb_controller.start(self.candles)\\n'\n",
      " '\\n'\n",
      " '    def on_tick(self):\\n'\n",
      " '        # Your logic to decide when to create orders based on MACDBB '\n",
      " 'signals\\n'\n",
      " '        pass\\n'\n",
      " '\\n'\n",
      " '    def on_buy_order_created(self, event: BuyOrderCreatedEvent):\\n'\n",
      " '        # Your logic when a buy order is created\\n'\n",
      " '        pass\\n'\n",
      " '\\n'\n",
      " '    def on_sell_order_created(self, event: SellOrderCreatedEvent):\\n'\n",
      " '        # Your logic when a sell order is created\\n'\n",
      " '        pass\\n'\n",
      " '\\n'\n",
      " '    def on_order_filled(self, event: OrderFilledEvent):\\n'\n",
      " '        # Your logic when an order is filled\\n'\n",
      " '        pass\\n'\n",
      " '\\n'\n",
      " '# Add other necessary methods and logic as needed for your strategy\\n'\n",
      " '```\\n'\n",
      " '\\n'\n",
      " 'This script initializes a MACDBB controller with some example configuration '\n",
      " 'values for the MACD and Bollinger Bands indicators. You will need to '\n",
      " 'implement the `on_tick`, `on_buy_order_created`, `on_sell_order_created`, '\n",
      " 'and `on_order_filled` methods to define the specific logic of your strategy, '\n",
      " 'such as when to enter or exit trades based on the MACDBB signals.\\n'\n",
      " '\\n'\n",
      " 'Remember to backtest your strategy with historical data to find the optimal '\n",
      " 'values for the MACD and Bollinger Bands parameters. The values provided here '\n",
      " 'are just starting points. Adjust them based on your risk tolerance and '\n",
      " 'trading goals.')\n"
     ]
    }
   ],
   "source": [
    "pprint(result[\"result\"])"
   ],
   "metadata": {
    "collapsed": false,
    "ExecuteTime": {
     "end_time": "2023-11-28T17:17:08.068880Z",
     "start_time": "2023-11-28T17:17:08.066145Z"
    }
   }
  },
  {
   "cell_type": "code",
   "execution_count": 8,
   "outputs": [
    {
     "data": {
      "text/plain": "4"
     },
     "execution_count": 8,
     "metadata": {},
     "output_type": "execute_result"
    }
   ],
   "source": [
    "len(result[\"source_documents\"])"
   ],
   "metadata": {
    "collapsed": false,
    "ExecuteTime": {
     "end_time": "2023-11-28T17:17:08.072588Z",
     "start_time": "2023-11-28T17:17:08.070270Z"
    }
   }
  },
  {
   "cell_type": "code",
   "execution_count": null,
   "outputs": [],
   "source": [],
   "metadata": {
    "collapsed": false
   }
  }
 ],
 "metadata": {
  "kernelspec": {
   "display_name": "Python 3",
   "language": "python",
   "name": "python3"
  },
  "language_info": {
   "codemirror_mode": {
    "name": "ipython",
    "version": 2
   },
   "file_extension": ".py",
   "mimetype": "text/x-python",
   "name": "python",
   "nbconvert_exporter": "python",
   "pygments_lexer": "ipython2",
   "version": "2.7.6"
  }
 },
 "nbformat": 4,
 "nbformat_minor": 0
}
