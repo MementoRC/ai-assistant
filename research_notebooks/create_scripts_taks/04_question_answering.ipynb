{
 "cells": [
  {
   "cell_type": "code",
   "execution_count": 16,
   "metadata": {
    "collapsed": true,
    "ExecuteTime": {
     "end_time": "2023-11-15T03:03:57.705906Z",
     "start_time": "2023-11-15T03:03:57.701637Z"
    }
   },
   "outputs": [],
   "source": [
    "import os\n",
    "import CONFIG\n",
    "from pprint import pprint\n",
    "from langchain.vectorstores.chroma import Chroma\n",
    "from langchain.embeddings import OpenAIEmbeddings\n",
    "from langchain.chat_models import ChatOpenAI\n",
    "from langchain.chains import RetrievalQA\n",
    "from langchain.prompts import PromptTemplate\n",
    "\n",
    "\n",
    "os.environ[\"OPENAI_API_KEY\"] = CONFIG.OPENAI_API_KEY\n",
    "llm_name = \"gpt-3.5-turbo\"\n",
    "llm_name = \"gpt-4-1106-preview\""
   ]
  },
  {
   "cell_type": "code",
   "execution_count": 17,
   "outputs": [],
   "source": [
    "persist_directory = \"/Users/dardonacci/Documents/dardonacci/2-Code/metabrain/vector_stores/hummingbot/chroma/\"\n",
    "\n",
    "embedding = OpenAIEmbeddings()\n",
    "\n",
    "vectordb = Chroma(\n",
    "    collection_name=\"hummingbot_scripts\",\n",
    "    persist_directory=persist_directory,\n",
    "    embedding_function=embedding\n",
    ")"
   ],
   "metadata": {
    "collapsed": false,
    "ExecuteTime": {
     "end_time": "2023-11-15T03:03:59.386442Z",
     "start_time": "2023-11-15T03:03:59.377336Z"
    }
   }
  },
  {
   "cell_type": "markdown",
   "source": [
    "# Prompts"
   ],
   "metadata": {
    "collapsed": false
   }
  },
  {
   "cell_type": "code",
   "execution_count": 18,
   "outputs": [],
   "source": [
    "# Build prompt\n",
    "template = \"\"\"Use the following pieces of context to answer the question at the end. If you don't know the answer, just say that you don't know, don't try to make up an answer. You need to create the full code for the script that the user is asking for. If you think that more information is needed, ask the user for it.\n",
    "{context}\n",
    "Question: {question}\n",
    "Helpful Answer:\"\"\"\n",
    "prompt = PromptTemplate.from_template(template)"
   ],
   "metadata": {
    "collapsed": false,
    "ExecuteTime": {
     "end_time": "2023-11-15T03:04:00.574573Z",
     "start_time": "2023-11-15T03:04:00.567916Z"
    }
   }
  },
  {
   "cell_type": "code",
   "execution_count": 20,
   "outputs": [],
   "source": [
    "llm = ChatOpenAI(model_name=llm_name, temperature=0)\n",
    "qa_chain = RetrievalQA.from_chain_type(\n",
    "    llm=llm,\n",
    "    retriever=vectordb.as_retriever(search_type=\"mmr\", k=5, fetch_k=10),\n",
    "    chain_type=\"stuff\",\n",
    "    return_source_documents=True,\n",
    "    chain_type_kwargs={\"prompt\": prompt}\n",
    ")"
   ],
   "metadata": {
    "collapsed": false,
    "ExecuteTime": {
     "end_time": "2023-11-15T03:04:09.669137Z",
     "start_time": "2023-11-15T03:04:09.659879Z"
    }
   }
  },
  {
   "cell_type": "code",
   "execution_count": 21,
   "outputs": [],
   "source": [
    "query = \"\"\"I would like to create a Directional Strategy using Hummingbot using the MACDBB controller. Can you the script for me and suggest values for the indicators?\n",
    "\"\"\""
   ],
   "metadata": {
    "collapsed": false,
    "ExecuteTime": {
     "end_time": "2023-11-15T03:04:16.816722Z",
     "start_time": "2023-11-15T03:04:16.805939Z"
    }
   }
  },
  {
   "cell_type": "code",
   "execution_count": 22,
   "outputs": [],
   "source": [
    "result = qa_chain({\"query\": query})"
   ],
   "metadata": {
    "collapsed": false,
    "ExecuteTime": {
     "end_time": "2023-11-15T03:04:46.657049Z",
     "start_time": "2023-11-15T03:04:17.879116Z"
    }
   }
  },
  {
   "cell_type": "code",
   "execution_count": 27,
   "outputs": [
    {
     "name": "stdout",
     "output_type": "stream",
     "text": [
      "('Based on the context provided, it seems you want to create a directional '\n",
      " 'trading strategy using the MACDBB controller in Hummingbot. Below is a '\n",
      " 'script that sets up a directional strategy using the MACDBB controller. '\n",
      " 'Please note that the values for the MACD and Bollinger Bands indicators are '\n",
      " 'just examples, and you may need to adjust them based on your trading '\n",
      " 'preferences and backtesting results.\\n'\n",
      " '\\n'\n",
      " '```python\\n'\n",
      " 'from decimal import Decimal\\n'\n",
      " 'from hummingbot.connector.connector_base import ConnectorBase\\n'\n",
      " 'from hummingbot.core.data_type.common import OrderType\\n'\n",
      " 'from hummingbot.smart_components.controllers.macd_bb_v1 import MACDBBV1, '\n",
      " 'MACDBBV1Config\\n'\n",
      " 'from '\n",
      " 'hummingbot.smart_components.strategy_frameworks.directional_trading.directional_trading_executor_handler '\n",
      " 'import (\\n'\n",
      " '    DirectionalTradingExecutorHandler,\\n'\n",
      " ')\\n'\n",
      " 'from hummingbot.strategy.script_strategy_base import ScriptStrategyBase\\n'\n",
      " 'from typing import Dict\\n'\n",
      " '\\n'\n",
      " 'class MACDBBDirectionalStrategy(ScriptStrategyBase):\\n'\n",
      " '    directional_strategy_name = \"macd_bb_directional\"\\n'\n",
      " '    trading_pair = \"BTC-USDT\"\\n'\n",
      " '    exchange = \"binance\"\\n'\n",
      " '    order_amount_usd = Decimal(\"100\")\\n'\n",
      " '    leverage = 1  # Adjust leverage according to your risk preference\\n'\n",
      " '\\n'\n",
      " '    # Configure the parameters for the MACDBB controller\\n'\n",
      " '    macd_fast = 12\\n'\n",
      " '    macd_slow = 26\\n'\n",
      " '    macd_signal = 9\\n'\n",
      " '    bb_length = 20\\n'\n",
      " '    bb_std_dev = 2\\n'\n",
      " '\\n'\n",
      " '    # Configure the parameters for the position\\n'\n",
      " '    stop_loss: float = 0.01\\n'\n",
      " '    take_profit: float = 0.05\\n'\n",
      " '    time_limit: int = 60 * 60 * 3  # 3 hours\\n'\n",
      " '    open_order_type = OrderType.MARKET\\n'\n",
      " '    take_profit_order_type: OrderType = OrderType.MARKET\\n'\n",
      " '    trailing_stop_activation_delta = 0.01\\n'\n",
      " '    trailing_stop_trailing_delta = 0.003\\n'\n",
      " '\\n'\n",
      " '    def __init__(self, connectors: Dict[str, ConnectorBase]):\\n'\n",
      " '        super().__init__(connectors)\\n'\n",
      " '        macd_bb_config = MACDBBV1Config(\\n'\n",
      " '            trading_pair=self.trading_pair,\\n'\n",
      " '            macd_fast=self.macd_fast,\\n'\n",
      " '            macd_slow=self.macd_slow,\\n'\n",
      " '            macd_signal=self.macd_signal,\\n'\n",
      " '            bb_length=self.bb_length,\\n'\n",
      " '            bb_std_dev=self.bb_std_dev\\n'\n",
      " '        )\\n'\n",
      " '        self.macd_bb_controller = MACDBBV1(config=macd_bb_config)\\n'\n",
      " '        self.executor_handler = DirectionalTradingExecutorHandler(\\n'\n",
      " '            strategy=self,\\n'\n",
      " '            controller=self.macd_bb_controller\\n'\n",
      " '        )\\n'\n",
      " '\\n'\n",
      " '    def on_tick(self):\\n'\n",
      " '        if self.executor_handler.status == '\n",
      " 'ExecutorHandlerStatus.NOT_STARTED:\\n'\n",
      " '            self.executor_handler.start()\\n'\n",
      " '\\n'\n",
      " '    def format_status(self) -> str:\\n'\n",
      " '        if not self.ready_to_trade:\\n'\n",
      " '            return \"Market connectors are not ready.\"\\n'\n",
      " '        lines = [f\"Strategy: {self.directional_strategy_name} | Trading '\n",
      " 'Pair: {self.trading_pair}\",\\n'\n",
      " '                 self.executor_handler.to_format_status()]\\n'\n",
      " '        return \"\\\\n\".join(lines)\\n'\n",
      " '\\n'\n",
      " '# You would then initialize the strategy with the appropriate connectors\\n'\n",
      " '# connectors = {\"binance\": binance_connector_instance}\\n'\n",
      " '# strategy = MACDBBDirectionalStrategy(connectors=connectors)\\n'\n",
      " '```\\n'\n",
      " '\\n'\n",
      " 'This script initializes a directional strategy with the MACDBB controller. '\n",
      " 'The `MACDBBV1Config` is configured with MACD and Bollinger Bands parameters. '\n",
      " 'The `DirectionalTradingExecutorHandler` is used to manage the execution of '\n",
      " 'trades based on the signals from the MACDBB controller.\\n'\n",
      " '\\n'\n",
      " 'Please adjust the `trading_pair`, `exchange`, `order_amount_usd`, '\n",
      " '`leverage`, and indicator parameters (`macd_fast`, `macd_slow`, '\n",
      " '`macd_signal`, `bb_length`, `bb_std_dev`) to fit your trading strategy and '\n",
      " 'risk management preferences.\\n'\n",
      " '\\n'\n",
      " 'Remember to backtest your strategy with historical data to determine the '\n",
      " 'effectiveness of your chosen parameters before going live with real funds.')\n"
     ]
    }
   ],
   "source": [
    "pprint(result[\"result\"])"
   ],
   "metadata": {
    "collapsed": false,
    "ExecuteTime": {
     "end_time": "2023-11-15T03:06:28.374648Z",
     "start_time": "2023-11-15T03:06:28.370121Z"
    }
   }
  },
  {
   "cell_type": "code",
   "execution_count": 31,
   "outputs": [
    {
     "data": {
      "text/plain": "4"
     },
     "execution_count": 31,
     "metadata": {},
     "output_type": "execute_result"
    }
   ],
   "source": [
    "len(result[\"source_documents\"])"
   ],
   "metadata": {
    "collapsed": false,
    "ExecuteTime": {
     "end_time": "2023-11-15T03:14:35.173439Z",
     "start_time": "2023-11-15T03:14:35.164738Z"
    }
   }
  }
 ],
 "metadata": {
  "kernelspec": {
   "display_name": "Python 3",
   "language": "python",
   "name": "python3"
  },
  "language_info": {
   "codemirror_mode": {
    "name": "ipython",
    "version": 2
   },
   "file_extension": ".py",
   "mimetype": "text/x-python",
   "name": "python",
   "nbconvert_exporter": "python",
   "pygments_lexer": "ipython2",
   "version": "2.7.6"
  }
 },
 "nbformat": 4,
 "nbformat_minor": 0
}
