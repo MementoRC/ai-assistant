{
 "cells": [
  {
   "cell_type": "code",
   "execution_count": 1,
   "metadata": {
    "collapsed": true,
    "ExecuteTime": {
     "end_time": "2023-11-15T02:16:59.834450Z",
     "start_time": "2023-11-15T02:16:59.478256Z"
    }
   },
   "outputs": [],
   "source": [
    "import os\n",
    "import CONFIG\n",
    "from pprint import pprint\n",
    "from langchain.vectorstores.chroma import Chroma\n",
    "from langchain.embeddings import OpenAIEmbeddings\n",
    "\n",
    "os.environ[\"OPENAI_API_KEY\"] = CONFIG.OPENAI_API_KEY"
   ]
  },
  {
   "cell_type": "code",
   "execution_count": 17,
   "outputs": [],
   "source": [
    "def print_documents_metadata(documents):\n",
    "    for i, document in enumerate(documents):\n",
    "        print(f\"Document {i}\")\n",
    "        pprint(document.metadata)"
   ],
   "metadata": {
    "collapsed": false,
    "ExecuteTime": {
     "end_time": "2023-11-15T02:19:46.251836Z",
     "start_time": "2023-11-15T02:19:46.224970Z"
    }
   }
  },
  {
   "cell_type": "code",
   "execution_count": 2,
   "outputs": [],
   "source": [
    "persist_directory = \"/Users/dardonacci/Documents/dardonacci/2-Code/metabrain/vector_stores/hummingbot/chroma/\"\n",
    "\n",
    "embedding = OpenAIEmbeddings()\n",
    "\n",
    "vectordb = Chroma(\n",
    "    collection_name=\"hummingbot_scripts\",\n",
    "    persist_directory=persist_directory,\n",
    "    embedding_function=embedding\n",
    ")"
   ],
   "metadata": {
    "collapsed": false,
    "ExecuteTime": {
     "end_time": "2023-11-15T02:17:00.729183Z",
     "start_time": "2023-11-15T02:17:00.521370Z"
    }
   }
  },
  {
   "cell_type": "code",
   "execution_count": 4,
   "outputs": [],
   "source": [
    "# Comparing similarity search with max marginal relevance search\n",
    "query = \"\"\"I would like to create a Directional Strategy using Hummingbot using the MACDBB controller. Can you the script for me and suggest values for the indicators?\n",
    "\"\"\""
   ],
   "metadata": {
    "collapsed": false,
    "ExecuteTime": {
     "end_time": "2023-11-15T02:17:06.325761Z",
     "start_time": "2023-11-15T02:17:06.313955Z"
    }
   }
  },
  {
   "cell_type": "markdown",
   "source": [
    "# Similarity Search"
   ],
   "metadata": {
    "collapsed": false
   }
  },
  {
   "cell_type": "code",
   "execution_count": 18,
   "outputs": [
    {
     "name": "stdout",
     "output_type": "stream",
     "text": [
      "Document 0\n",
      "{'content_type': 'simplified_code',\n",
      " 'language': 'python',\n",
      " 'source': '/Users/dardonacci/Documents/work/hummingbot/scripts/v2_directional-trading_macd_bb_v1.py'}\n",
      "Document 1\n",
      "{'content_type': 'simplified_code',\n",
      " 'language': 'python',\n",
      " 'source': '/Users/dardonacci/Documents/work/hummingbot/scripts/v2_directional-trading_macd_bb_v1.py'}\n",
      "Document 2\n",
      "{'content_type': 'simplified_code',\n",
      " 'language': 'python',\n",
      " 'source': '/Users/dardonacci/Documents/work/hummingbot/scripts/archived_scripts/examples_using_smart_components/directional_strategy_macd_bb.py'}\n",
      "Document 3\n",
      "{'content_type': 'simplified_code',\n",
      " 'language': 'python',\n",
      " 'source': '/Users/dardonacci/Documents/work/hummingbot/scripts/archived_scripts/examples_using_smart_components/directional_strategy_macd_bb.py'}\n",
      "Document 4\n",
      "{'content_type': 'functions_classes',\n",
      " 'language': 'python',\n",
      " 'source': '/Users/dardonacci/Documents/work/hummingbot/scripts/v2_directional-trading_macd_bb_v1.py'}\n",
      "Document 5\n",
      "{'content_type': 'functions_classes',\n",
      " 'language': 'python',\n",
      " 'source': '/Users/dardonacci/Documents/work/hummingbot/scripts/v2_directional-trading_macd_bb_v1.py'}\n",
      "Document 6\n",
      "{'content_type': 'simplified_code',\n",
      " 'language': 'python',\n",
      " 'source': '/Users/dardonacci/Documents/work/hummingbot/scripts/archived_scripts/examples_using_smart_components/macd_bb_directional_strategy.py'}\n",
      "Document 7\n",
      "{'content_type': 'simplified_code',\n",
      " 'language': 'python',\n",
      " 'source': '/Users/dardonacci/Documents/work/hummingbot/scripts/archived_scripts/examples_using_smart_components/macd_bb_directional_strategy.py'}\n",
      "Document 8\n",
      "{'content_type': 'simplified_code',\n",
      " 'language': 'python',\n",
      " 'source': '/Users/dardonacci/Documents/work/hummingbot/scripts/random_forest_example.py'}\n",
      "Document 9\n",
      "{'content_type': 'simplified_code',\n",
      " 'language': 'python',\n",
      " 'source': '/Users/dardonacci/Documents/work/hummingbot/scripts/random_forest_example.py'}\n"
     ]
    }
   ],
   "source": [
    "similar_documents = vectordb.similarity_search(query=query, k=10)\n",
    "print_documents_metadata(similar_documents)"
   ],
   "metadata": {
    "collapsed": false,
    "ExecuteTime": {
     "end_time": "2023-11-15T02:19:58.907632Z",
     "start_time": "2023-11-15T02:19:58.449882Z"
    }
   }
  },
  {
   "cell_type": "markdown",
   "source": [
    "# Max Marginal Relevance Search"
   ],
   "metadata": {
    "collapsed": false
   }
  },
  {
   "cell_type": "markdown",
   "source": [],
   "metadata": {
    "collapsed": false
   }
  },
  {
   "cell_type": "code",
   "execution_count": 19,
   "outputs": [
    {
     "name": "stdout",
     "output_type": "stream",
     "text": [
      "Document 0\n",
      "{'content_type': 'simplified_code',\n",
      " 'language': 'python',\n",
      " 'source': '/Users/dardonacci/Documents/work/hummingbot/scripts/v2_directional-trading_macd_bb_v1.py'}\n",
      "Document 1\n",
      "{'content_type': 'simplified_code',\n",
      " 'language': 'python',\n",
      " 'source': '/Users/dardonacci/Documents/work/hummingbot/scripts/v2_directional-trading_macd_bb_v1.py'}\n",
      "Document 2\n",
      "{'content_type': 'simplified_code',\n",
      " 'language': 'python',\n",
      " 'source': '/Users/dardonacci/Documents/work/hummingbot/scripts/archived_scripts/examples_using_smart_components/directional_strategy_macd_bb.py'}\n"
     ]
    }
   ],
   "source": [
    "mmr_documents = vectordb.max_marginal_relevance_search(query=query, k=5, fetch_k=3)\n",
    "for i, document in enumerate(mmr_documents):\n",
    "    print(f\"Document {i}\")\n",
    "    pprint(document.metadata)"
   ],
   "metadata": {
    "collapsed": false,
    "ExecuteTime": {
     "end_time": "2023-11-15T02:20:05.176270Z",
     "start_time": "2023-11-15T02:20:04.834822Z"
    }
   }
  },
  {
   "cell_type": "code",
   "execution_count": 20,
   "outputs": [],
   "source": [
    "from langchain.llms import OpenAI\n",
    "from langchain.retrievers.self_query.base import SelfQueryRetriever\n",
    "from langchain.chains.query_constructor.base import AttributeInfo"
   ],
   "metadata": {
    "collapsed": false,
    "ExecuteTime": {
     "end_time": "2023-11-15T02:20:06.105797Z",
     "start_time": "2023-11-15T02:20:06.093573Z"
    }
   }
  },
  {
   "cell_type": "code",
   "execution_count": 78,
   "outputs": [],
   "source": [
    "metadata_field_info = [\n",
    "    AttributeInfo(\n",
    "        name=\"content_type\",\n",
    "        description=\"Can be `simplified_code` or `function_classes` for the same file name. Include the two of them for each source filename\",\n",
    "        type=\"string\",\n",
    "    ),\n",
    "]"
   ],
   "metadata": {
    "collapsed": false,
    "ExecuteTime": {
     "end_time": "2023-11-15T02:28:43.766860Z",
     "start_time": "2023-11-15T02:28:43.756574Z"
    }
   }
  },
  {
   "cell_type": "code",
   "execution_count": 79,
   "outputs": [],
   "source": [
    "document_contents = \"Hummingbot scripts\"\n",
    "llm = OpenAI(temperature=0)\n",
    "retriever = SelfQueryRetriever.from_llm(\n",
    "    llm=llm,\n",
    "    vectorstore=vectordb,\n",
    "    document_contents=document_contents,\n",
    "    metadata_field_info=metadata_field_info,\n",
    "    verbose=True\n",
    ")"
   ],
   "metadata": {
    "collapsed": false,
    "ExecuteTime": {
     "end_time": "2023-11-15T02:28:44.426364Z",
     "start_time": "2023-11-15T02:28:44.406963Z"
    }
   }
  },
  {
   "cell_type": "code",
   "execution_count": 80,
   "outputs": [],
   "source": [
    "relevant_docs = retriever.get_relevant_documents(query=query, k=2)"
   ],
   "metadata": {
    "collapsed": false,
    "ExecuteTime": {
     "end_time": "2023-11-15T02:28:46.057205Z",
     "start_time": "2023-11-15T02:28:44.761639Z"
    }
   }
  },
  {
   "cell_type": "code",
   "execution_count": 81,
   "outputs": [
    {
     "name": "stdout",
     "output_type": "stream",
     "text": [
      "Document 0\n",
      "{'content_type': 'functions_classes',\n",
      " 'language': 'python',\n",
      " 'source': '/Users/dardonacci/Documents/work/hummingbot/scripts/v2_directional-trading_macd_bb_v1.py'}\n",
      "Document 1\n",
      "{'content_type': 'functions_classes',\n",
      " 'language': 'python',\n",
      " 'source': '/Users/dardonacci/Documents/work/hummingbot/scripts/v2_directional-trading_macd_bb_v1.py'}\n",
      "Document 2\n",
      "{'content_type': 'simplified_code',\n",
      " 'language': 'python',\n",
      " 'source': '/Users/dardonacci/Documents/work/hummingbot/scripts/archived_scripts/examples_using_smart_components/directional_strategy_macd_bb.py'}\n",
      "Document 3\n",
      "{'content_type': 'simplified_code',\n",
      " 'language': 'python',\n",
      " 'source': '/Users/dardonacci/Documents/work/hummingbot/scripts/archived_scripts/examples_using_smart_components/directional_strategy_macd_bb.py'}\n"
     ]
    }
   ],
   "source": [
    "print_documents_metadata(relevant_docs)"
   ],
   "metadata": {
    "collapsed": false,
    "ExecuteTime": {
     "end_time": "2023-11-15T02:28:46.065372Z",
     "start_time": "2023-11-15T02:28:46.058149Z"
    }
   }
  },
  {
   "cell_type": "markdown",
   "source": [
    "# Compressor"
   ],
   "metadata": {
    "collapsed": false
   }
  },
  {
   "cell_type": "code",
   "execution_count": 82,
   "outputs": [],
   "source": [
    "from langchain.retrievers import ContextualCompressionRetriever\n",
    "from langchain.retrievers.document_compressors import LLMChainExtractor"
   ],
   "metadata": {
    "collapsed": false,
    "ExecuteTime": {
     "end_time": "2023-11-15T02:29:35.079724Z",
     "start_time": "2023-11-15T02:29:35.061235Z"
    }
   }
  },
  {
   "cell_type": "code",
   "execution_count": 88,
   "outputs": [],
   "source": [
    "# Wrap our vectorstore\n",
    "llm = OpenAI(temperature=0)\n",
    "compressor = LLMChainExtractor.from_llm(llm)\n",
    "compression_retriever = ContextualCompressionRetriever(\n",
    "    base_compressor=compressor,\n",
    "    base_retriever=vectordb.as_retriever(search_type=\"mmr\"),\n",
    "    verbose=True\n",
    ")"
   ],
   "metadata": {
    "collapsed": false,
    "ExecuteTime": {
     "end_time": "2023-11-15T02:32:12.494873Z",
     "start_time": "2023-11-15T02:32:12.484429Z"
    }
   }
  },
  {
   "cell_type": "code",
   "execution_count": 89,
   "outputs": [
    {
     "name": "stderr",
     "output_type": "stream",
     "text": [
      "/Users/dardonacci/anaconda3/envs/metabrain/lib/python3.10/site-packages/langchain/chains/llm.py:321: UserWarning: The predict_and_parse method is deprecated, instead pass an output parser directly to LLMChain.\n",
      "  warnings.warn(\n",
      "/Users/dardonacci/anaconda3/envs/metabrain/lib/python3.10/site-packages/langchain/chains/llm.py:321: UserWarning: The predict_and_parse method is deprecated, instead pass an output parser directly to LLMChain.\n",
      "  warnings.warn(\n",
      "/Users/dardonacci/anaconda3/envs/metabrain/lib/python3.10/site-packages/langchain/chains/llm.py:321: UserWarning: The predict_and_parse method is deprecated, instead pass an output parser directly to LLMChain.\n",
      "  warnings.warn(\n",
      "/Users/dardonacci/anaconda3/envs/metabrain/lib/python3.10/site-packages/langchain/chains/llm.py:321: UserWarning: The predict_and_parse method is deprecated, instead pass an output parser directly to LLMChain.\n",
      "  warnings.warn(\n"
     ]
    }
   ],
   "source": [
    "compressed_docs = compression_retriever.get_relevant_documents(query=query, k=2)"
   ],
   "metadata": {
    "collapsed": false,
    "ExecuteTime": {
     "end_time": "2023-11-15T02:32:27.748200Z",
     "start_time": "2023-11-15T02:32:13.288581Z"
    }
   }
  },
  {
   "cell_type": "code",
   "execution_count": 90,
   "outputs": [
    {
     "name": "stdout",
     "output_type": "stream",
     "text": [
      "Document 0\n",
      "{'content_type': 'simplified_code',\n",
      " 'language': 'python',\n",
      " 'source': '/Users/dardonacci/Documents/work/hummingbot/scripts/v2_directional-trading_macd_bb_v1.py'}\n",
      "Document 1\n",
      "{'content_type': 'functions_classes',\n",
      " 'language': 'python',\n",
      " 'source': '/Users/dardonacci/Documents/work/hummingbot/scripts/archived_scripts/community_scripts/microprice_calculator.py'}\n",
      "Document 2\n",
      "{'content_type': 'functions_classes',\n",
      " 'language': 'python',\n",
      " 'source': '/Users/dardonacci/Documents/work/hummingbot/scripts/archived_scripts/examples_using_smart_components/macd_bb_directional_strategy.py'}\n"
     ]
    }
   ],
   "source": [
    "print_documents_metadata(compressed_docs)"
   ],
   "metadata": {
    "collapsed": false,
    "ExecuteTime": {
     "end_time": "2023-11-15T02:32:49.515873Z",
     "start_time": "2023-11-15T02:32:49.490024Z"
    }
   }
  },
  {
   "cell_type": "code",
   "execution_count": null,
   "outputs": [],
   "source": [],
   "metadata": {
    "collapsed": false
   }
  }
 ],
 "metadata": {
  "kernelspec": {
   "display_name": "Python 3",
   "language": "python",
   "name": "python3"
  },
  "language_info": {
   "codemirror_mode": {
    "name": "ipython",
    "version": 2
   },
   "file_extension": ".py",
   "mimetype": "text/x-python",
   "name": "python",
   "nbconvert_exporter": "python",
   "pygments_lexer": "ipython2",
   "version": "2.7.6"
  }
 },
 "nbformat": 4,
 "nbformat_minor": 0
}
