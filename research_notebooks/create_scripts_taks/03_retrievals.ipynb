{
 "cells": [
  {
   "cell_type": "code",
   "execution_count": null,
   "metadata": {
    "collapsed": true
   },
   "outputs": [],
   "source": [
    "import os\n",
    "\n",
    "from pprint import pprint\n",
    "from langchain.vectorstores.chroma import Chroma\n",
    "from langchain.embeddings import OpenAIEmbeddings\n",
    "from dotenv import load_dotenv\n",
    "\n",
    "load_dotenv()\n",
    "\n",
    "os.environ[\"OPENAI_API_KEY\"]  # you should see the api key if the .env file is loaded correctly"
   ]
  },
  {
   "cell_type": "code",
   "execution_count": 2,
   "outputs": [],
   "source": [
    "def print_documents_metadata(documents):\n",
    "    for i, document in enumerate(documents):\n",
    "        print(f\"Document {i}\")\n",
    "        pprint(document.metadata)"
   ],
   "metadata": {
    "collapsed": false,
    "ExecuteTime": {
     "end_time": "2023-11-28T17:15:09.399441Z",
     "start_time": "2023-11-28T17:15:09.398820Z"
    }
   }
  },
  {
   "cell_type": "code",
   "execution_count": 6,
   "outputs": [],
   "source": [
    "persist_directory = \"/Users/dardonacci/Documents/dardonacci/2-Code/metabrain/vector_stores/hummingbot/chroma/\"  # Put the directory where you want to persist the vectorstore\n",
    "\n",
    "embedding = OpenAIEmbeddings()\n",
    "\n",
    "vectordb = Chroma(\n",
    "    collection_name=\"hummingbot_scripts\",\n",
    "    persist_directory=persist_directory,\n",
    "    embedding_function=embedding\n",
    ")"
   ],
   "metadata": {
    "collapsed": false,
    "ExecuteTime": {
     "end_time": "2023-11-28T17:15:15.220182Z",
     "start_time": "2023-11-28T17:15:14.985842Z"
    }
   }
  },
  {
   "cell_type": "code",
   "execution_count": 7,
   "outputs": [],
   "source": [
    "# Comparing similarity search with max marginal relevance search\n",
    "query = \"\"\"I would like to create a Directional Strategy using Hummingbot using the MACDBB controller. Can you the script for me and suggest values for the indicators?\n",
    "\"\"\""
   ],
   "metadata": {
    "collapsed": false,
    "ExecuteTime": {
     "end_time": "2023-11-28T17:15:15.222746Z",
     "start_time": "2023-11-28T17:15:15.221395Z"
    }
   }
  },
  {
   "cell_type": "markdown",
   "source": [
    "# Similarity Search"
   ],
   "metadata": {
    "collapsed": false
   }
  },
  {
   "cell_type": "code",
   "execution_count": 8,
   "outputs": [
    {
     "name": "stdout",
     "output_type": "stream",
     "text": [
      "Document 0\n",
      "{'content_type': 'simplified_code',\n",
      " 'language': 'python',\n",
      " 'source': '/Users/dardonacci/Documents/work/hummingbot/scripts/v2_directional-trading_macd_bb_v1.py'}\n",
      "Document 1\n",
      "{'content_type': 'simplified_code',\n",
      " 'language': 'python',\n",
      " 'source': '/Users/dardonacci/Documents/work/hummingbot/scripts/v2_directional-trading_macd_bb_v1.py'}\n",
      "Document 2\n",
      "{'content_type': 'simplified_code',\n",
      " 'language': 'python',\n",
      " 'source': '/Users/dardonacci/Documents/work/hummingbot/scripts/archived_scripts/examples_using_smart_components/directional_strategy_macd_bb.py'}\n",
      "Document 3\n",
      "{'content_type': 'simplified_code',\n",
      " 'language': 'python',\n",
      " 'source': '/Users/dardonacci/Documents/work/hummingbot/scripts/archived_scripts/examples_using_smart_components/directional_strategy_macd_bb.py'}\n",
      "Document 4\n",
      "{'content_type': 'functions_classes',\n",
      " 'language': 'python',\n",
      " 'source': '/Users/dardonacci/Documents/work/hummingbot/scripts/v2_directional-trading_macd_bb_v1.py'}\n",
      "Document 5\n",
      "{'content_type': 'functions_classes',\n",
      " 'language': 'python',\n",
      " 'source': '/Users/dardonacci/Documents/work/hummingbot/scripts/v2_directional-trading_macd_bb_v1.py'}\n",
      "Document 6\n",
      "{'content_type': 'simplified_code',\n",
      " 'language': 'python',\n",
      " 'source': '/Users/dardonacci/Documents/work/hummingbot/scripts/archived_scripts/examples_using_smart_components/macd_bb_directional_strategy.py'}\n",
      "Document 7\n",
      "{'content_type': 'simplified_code',\n",
      " 'language': 'python',\n",
      " 'source': '/Users/dardonacci/Documents/work/hummingbot/scripts/archived_scripts/examples_using_smart_components/macd_bb_directional_strategy.py'}\n",
      "Document 8\n",
      "{'content_type': 'simplified_code',\n",
      " 'language': 'python',\n",
      " 'source': '/Users/dardonacci/Documents/work/hummingbot/scripts/random_forest_example.py'}\n",
      "Document 9\n",
      "{'content_type': 'simplified_code',\n",
      " 'language': 'python',\n",
      " 'source': '/Users/dardonacci/Documents/work/hummingbot/scripts/random_forest_example.py'}\n"
     ]
    }
   ],
   "source": [
    "similar_documents = vectordb.similarity_search(query=query, k=10)\n",
    "print_documents_metadata(similar_documents)"
   ],
   "metadata": {
    "collapsed": false,
    "ExecuteTime": {
     "end_time": "2023-11-28T17:15:16.210721Z",
     "start_time": "2023-11-28T17:15:15.452980Z"
    }
   }
  },
  {
   "cell_type": "markdown",
   "source": [
    "# Max Marginal Relevance Search"
   ],
   "metadata": {
    "collapsed": false
   }
  },
  {
   "cell_type": "markdown",
   "source": [],
   "metadata": {
    "collapsed": false
   }
  },
  {
   "cell_type": "code",
   "execution_count": 9,
   "outputs": [
    {
     "name": "stdout",
     "output_type": "stream",
     "text": [
      "Document 0\n",
      "{'content_type': 'simplified_code',\n",
      " 'language': 'python',\n",
      " 'source': '/Users/dardonacci/Documents/work/hummingbot/scripts/v2_directional-trading_macd_bb_v1.py'}\n",
      "Document 1\n",
      "{'content_type': 'simplified_code',\n",
      " 'language': 'python',\n",
      " 'source': '/Users/dardonacci/Documents/work/hummingbot/scripts/v2_directional-trading_macd_bb_v1.py'}\n",
      "Document 2\n",
      "{'content_type': 'simplified_code',\n",
      " 'language': 'python',\n",
      " 'source': '/Users/dardonacci/Documents/work/hummingbot/scripts/archived_scripts/examples_using_smart_components/directional_strategy_macd_bb.py'}\n"
     ]
    }
   ],
   "source": [
    "mmr_documents = vectordb.max_marginal_relevance_search(query=query, k=5, fetch_k=3)\n",
    "for i, document in enumerate(mmr_documents):\n",
    "    print(f\"Document {i}\")\n",
    "    pprint(document.metadata)"
   ],
   "metadata": {
    "collapsed": false,
    "ExecuteTime": {
     "end_time": "2023-11-28T17:15:17.112650Z",
     "start_time": "2023-11-28T17:15:16.667261Z"
    }
   }
  },
  {
   "cell_type": "code",
   "execution_count": 10,
   "outputs": [],
   "source": [
    "from langchain.llms import OpenAI\n",
    "from langchain.retrievers.self_query.base import SelfQueryRetriever\n",
    "from langchain.chains.query_constructor.base import AttributeInfo"
   ],
   "metadata": {
    "collapsed": false,
    "ExecuteTime": {
     "end_time": "2023-11-28T17:15:17.658482Z",
     "start_time": "2023-11-28T17:15:17.133772Z"
    }
   }
  },
  {
   "cell_type": "code",
   "execution_count": 11,
   "outputs": [],
   "source": [
    "metadata_field_info = [\n",
    "    AttributeInfo(\n",
    "        name=\"content_type\",\n",
    "        description=\"Can be `simplified_code` or `function_classes` for the same file name. Include the two of them for each source filename\",\n",
    "        type=\"string\",\n",
    "    ),\n",
    "]"
   ],
   "metadata": {
    "collapsed": false,
    "ExecuteTime": {
     "end_time": "2023-11-28T17:15:17.660677Z",
     "start_time": "2023-11-28T17:15:17.659582Z"
    }
   }
  },
  {
   "cell_type": "code",
   "execution_count": 12,
   "outputs": [],
   "source": [
    "document_contents = \"Hummingbot scripts\"\n",
    "llm = OpenAI(temperature=0)\n",
    "retriever = SelfQueryRetriever.from_llm(\n",
    "    llm=llm,\n",
    "    vectorstore=vectordb,\n",
    "    document_contents=document_contents,\n",
    "    metadata_field_info=metadata_field_info,\n",
    "    verbose=True\n",
    ")"
   ],
   "metadata": {
    "collapsed": false,
    "ExecuteTime": {
     "end_time": "2023-11-28T17:15:18.010155Z",
     "start_time": "2023-11-28T17:15:17.987063Z"
    }
   }
  },
  {
   "cell_type": "code",
   "execution_count": 13,
   "outputs": [],
   "source": [
    "relevant_docs = retriever.get_relevant_documents(query=query, k=2)"
   ],
   "metadata": {
    "collapsed": false,
    "ExecuteTime": {
     "end_time": "2023-11-28T17:15:20.066908Z",
     "start_time": "2023-11-28T17:15:18.474277Z"
    }
   }
  },
  {
   "cell_type": "code",
   "execution_count": 14,
   "outputs": [
    {
     "name": "stdout",
     "output_type": "stream",
     "text": [
      "Document 0\n",
      "{'content_type': 'functions_classes',\n",
      " 'language': 'python',\n",
      " 'source': '/Users/dardonacci/Documents/work/hummingbot/scripts/v2_directional-trading_macd_bb_v1.py'}\n",
      "Document 1\n",
      "{'content_type': 'functions_classes',\n",
      " 'language': 'python',\n",
      " 'source': '/Users/dardonacci/Documents/work/hummingbot/scripts/v2_directional-trading_macd_bb_v1.py'}\n",
      "Document 2\n",
      "{'content_type': 'simplified_code',\n",
      " 'language': 'python',\n",
      " 'source': '/Users/dardonacci/Documents/work/hummingbot/scripts/archived_scripts/examples_using_smart_components/directional_strategy_macd_bb.py'}\n",
      "Document 3\n",
      "{'content_type': 'simplified_code',\n",
      " 'language': 'python',\n",
      " 'source': '/Users/dardonacci/Documents/work/hummingbot/scripts/archived_scripts/examples_using_smart_components/directional_strategy_macd_bb.py'}\n"
     ]
    }
   ],
   "source": [
    "print_documents_metadata(relevant_docs)"
   ],
   "metadata": {
    "collapsed": false,
    "ExecuteTime": {
     "end_time": "2023-11-28T17:15:20.070926Z",
     "start_time": "2023-11-28T17:15:20.068212Z"
    }
   }
  },
  {
   "cell_type": "markdown",
   "source": [
    "# Compressor"
   ],
   "metadata": {
    "collapsed": false
   }
  },
  {
   "cell_type": "code",
   "execution_count": 15,
   "outputs": [],
   "source": [
    "from langchain.retrievers import ContextualCompressionRetriever\n",
    "from langchain.retrievers.document_compressors import LLMChainExtractor"
   ],
   "metadata": {
    "collapsed": false,
    "ExecuteTime": {
     "end_time": "2023-11-28T17:15:20.072643Z",
     "start_time": "2023-11-28T17:15:20.071119Z"
    }
   }
  },
  {
   "cell_type": "code",
   "execution_count": 16,
   "outputs": [],
   "source": [
    "# Wrap our vectorstore\n",
    "llm = OpenAI(temperature=0)\n",
    "compressor = LLMChainExtractor.from_llm(llm)\n",
    "compression_retriever = ContextualCompressionRetriever(\n",
    "    base_compressor=compressor,\n",
    "    base_retriever=vectordb.as_retriever(search_type=\"mmr\"),\n",
    "    verbose=True\n",
    ")"
   ],
   "metadata": {
    "collapsed": false,
    "ExecuteTime": {
     "end_time": "2023-11-28T17:15:20.077168Z",
     "start_time": "2023-11-28T17:15:20.074958Z"
    }
   }
  },
  {
   "cell_type": "code",
   "execution_count": 17,
   "outputs": [
    {
     "name": "stderr",
     "output_type": "stream",
     "text": [
      "/Users/dardonacci/anaconda3/envs/ai-assistant/lib/python3.11/site-packages/langchain/chains/llm.py:321: UserWarning: The predict_and_parse method is deprecated, instead pass an output parser directly to LLMChain.\n",
      "  warnings.warn(\n",
      "/Users/dardonacci/anaconda3/envs/ai-assistant/lib/python3.11/site-packages/langchain/chains/llm.py:321: UserWarning: The predict_and_parse method is deprecated, instead pass an output parser directly to LLMChain.\n",
      "  warnings.warn(\n",
      "/Users/dardonacci/anaconda3/envs/ai-assistant/lib/python3.11/site-packages/langchain/chains/llm.py:321: UserWarning: The predict_and_parse method is deprecated, instead pass an output parser directly to LLMChain.\n",
      "  warnings.warn(\n",
      "/Users/dardonacci/anaconda3/envs/ai-assistant/lib/python3.11/site-packages/langchain/chains/llm.py:321: UserWarning: The predict_and_parse method is deprecated, instead pass an output parser directly to LLMChain.\n",
      "  warnings.warn(\n"
     ]
    }
   ],
   "source": [
    "compressed_docs = compression_retriever.get_relevant_documents(query=query, k=2)"
   ],
   "metadata": {
    "collapsed": false,
    "ExecuteTime": {
     "end_time": "2023-11-28T17:15:34.161537Z",
     "start_time": "2023-11-28T17:15:20.078760Z"
    }
   }
  },
  {
   "cell_type": "code",
   "execution_count": 18,
   "outputs": [
    {
     "name": "stdout",
     "output_type": "stream",
     "text": [
      "Document 0\n",
      "{'content_type': 'simplified_code',\n",
      " 'language': 'python',\n",
      " 'source': '/Users/dardonacci/Documents/work/hummingbot/scripts/v2_directional-trading_macd_bb_v1.py'}\n",
      "Document 1\n",
      "{'content_type': 'functions_classes',\n",
      " 'language': 'python',\n",
      " 'source': '/Users/dardonacci/Documents/work/hummingbot/scripts/archived_scripts/community_scripts/microprice_calculator.py'}\n",
      "Document 2\n",
      "{'content_type': 'functions_classes',\n",
      " 'language': 'python',\n",
      " 'source': '/Users/dardonacci/Documents/work/hummingbot/scripts/archived_scripts/examples_using_smart_components/macd_bb_directional_strategy.py'}\n"
     ]
    }
   ],
   "source": [
    "print_documents_metadata(compressed_docs)"
   ],
   "metadata": {
    "collapsed": false,
    "ExecuteTime": {
     "end_time": "2023-11-28T17:15:34.163529Z",
     "start_time": "2023-11-28T17:15:34.161759Z"
    }
   }
  }
 ],
 "metadata": {
  "kernelspec": {
   "display_name": "Python 3",
   "language": "python",
   "name": "python3"
  },
  "language_info": {
   "codemirror_mode": {
    "name": "ipython",
    "version": 2
   },
   "file_extension": ".py",
   "mimetype": "text/x-python",
   "name": "python",
   "nbconvert_exporter": "python",
   "pygments_lexer": "ipython2",
   "version": "2.7.6"
  }
 },
 "nbformat": 4,
 "nbformat_minor": 0
}
