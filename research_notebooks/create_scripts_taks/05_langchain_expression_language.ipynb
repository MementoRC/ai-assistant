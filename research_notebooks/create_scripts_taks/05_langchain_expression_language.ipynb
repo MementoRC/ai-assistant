{
 "cells": [
  {
   "cell_type": "code",
   "execution_count": 10,
   "metadata": {
    "collapsed": true,
    "ExecuteTime": {
     "end_time": "2023-11-15T03:39:39.083962Z",
     "start_time": "2023-11-15T03:39:39.072136Z"
    }
   },
   "outputs": [],
   "source": [
    "import os\n",
    "import CONFIG\n",
    "from pprint import pprint\n",
    "from langchain.vectorstores.chroma import Chroma\n",
    "from langchain.embeddings import OpenAIEmbeddings\n",
    "from langchain.chat_models import ChatOpenAI\n",
    "from langchain.chains import RetrievalQA\n",
    "from langchain.prompts import PromptTemplate\n",
    "from pydantic import BaseModel, Field\n",
    "from langchain.utils.openai_functions import convert_pydantic_to_openai_function\n",
    "\n",
    "\n",
    "\n",
    "os.environ[\"OPENAI_API_KEY\"] = CONFIG.OPENAI_API_KEY\n",
    "llm_name = \"gpt-4-1106-preview\""
   ]
  },
  {
   "cell_type": "code",
   "execution_count": 11,
   "outputs": [],
   "source": [
    "persist_directory = \"/Users/dardonacci/Documents/dardonacci/2-Code/metabrain/vector_stores/hummingbot/chroma/\"\n",
    "\n",
    "embedding = OpenAIEmbeddings()\n",
    "\n",
    "vectordb = Chroma(\n",
    "    collection_name=\"hummingbot_scripts\",\n",
    "    persist_directory=persist_directory,\n",
    "    embedding_function=embedding\n",
    ")"
   ],
   "metadata": {
    "collapsed": false,
    "ExecuteTime": {
     "end_time": "2023-11-15T03:39:40.066244Z",
     "start_time": "2023-11-15T03:39:40.054441Z"
    }
   }
  },
  {
   "cell_type": "code",
   "execution_count": 33,
   "outputs": [],
   "source": [
    "from langchain.schema import StrOutputParser\n",
    "from langchain.prompts import ChatPromptTemplate\n",
    "\n",
    "# Build prompt\n",
    "template = \"\"\"Use the following pieces of context to answer the question at the end. If you don't know the answer, just say that you don't know, don't try to make up an answer. You need to create the full code for the script that the user is asking for. If you think that more information is needed, ask the user for it.\n",
    "Also remember this basic rules:\n",
    "- The script should be written in Python.\n",
    "- The variables to configure the script are defined as class variables.\n",
    "- The script inherits the class ScriptStrategyBase.\n",
    "- Each controller is initialized when defining the class variables and the executor handler is started in the init method.\n",
    "{context}\n",
    "Question: {question}\n",
    "Helpful Answer:\"\"\"\n",
    "\n",
    "prompt = ChatPromptTemplate.from_template(template=template)\n",
    "model = ChatOpenAI(model_name=llm_name, temperature=0)\n",
    "output_parser = StrOutputParser()\n",
    "\n",
    "chain = prompt | model"
   ],
   "metadata": {
    "collapsed": false,
    "ExecuteTime": {
     "end_time": "2023-11-15T04:02:09.696644Z",
     "start_time": "2023-11-15T04:02:09.684170Z"
    }
   }
  },
  {
   "cell_type": "code",
   "execution_count": 34,
   "outputs": [],
   "source": [
    "query = \"\"\"I would like to create a Directional Strategy using Hummingbot using the MACDBB controller. Can you the script for me and suggest values for the indicators?\n",
    "\"\"\""
   ],
   "metadata": {
    "collapsed": false,
    "ExecuteTime": {
     "end_time": "2023-11-15T04:02:20.907456Z",
     "start_time": "2023-11-15T04:02:20.891491Z"
    }
   }
  },
  {
   "cell_type": "code",
   "execution_count": 35,
   "outputs": [
    {
     "ename": "KeyError",
     "evalue": "'context'",
     "output_type": "error",
     "traceback": [
      "\u001B[0;31m---------------------------------------------------------------------------\u001B[0m",
      "\u001B[0;31mKeyError\u001B[0m                                  Traceback (most recent call last)",
      "Cell \u001B[0;32mIn[35], line 1\u001B[0m\n\u001B[0;32m----> 1\u001B[0m \u001B[43mchain\u001B[49m\u001B[38;5;241;43m.\u001B[39;49m\u001B[43minvoke\u001B[49m\u001B[43m(\u001B[49m\n\u001B[1;32m      2\u001B[0m \u001B[43m    \u001B[49m\u001B[38;5;28;43minput\u001B[39;49m\u001B[38;5;241;43m=\u001B[39;49m\u001B[43m{\u001B[49m\n\u001B[1;32m      3\u001B[0m \u001B[43m        \u001B[49m\u001B[38;5;124;43m\"\u001B[39;49m\u001B[38;5;124;43mquestion\u001B[39;49m\u001B[38;5;124;43m\"\u001B[39;49m\u001B[43m:\u001B[49m\u001B[43m \u001B[49m\u001B[43mquery\u001B[49m\u001B[43m,\u001B[49m\n\u001B[1;32m      4\u001B[0m \u001B[43m    \u001B[49m\u001B[43m}\u001B[49m\n\u001B[1;32m      5\u001B[0m \u001B[43m)\u001B[49m\n",
      "File \u001B[0;32m~/anaconda3/envs/metabrain/lib/python3.10/site-packages/langchain/schema/runnable/base.py:1213\u001B[0m, in \u001B[0;36mRunnableSequence.invoke\u001B[0;34m(self, input, config)\u001B[0m\n\u001B[1;32m   1211\u001B[0m \u001B[38;5;28;01mtry\u001B[39;00m:\n\u001B[1;32m   1212\u001B[0m     \u001B[38;5;28;01mfor\u001B[39;00m i, step \u001B[38;5;129;01min\u001B[39;00m \u001B[38;5;28menumerate\u001B[39m(\u001B[38;5;28mself\u001B[39m\u001B[38;5;241m.\u001B[39msteps):\n\u001B[0;32m-> 1213\u001B[0m         \u001B[38;5;28minput\u001B[39m \u001B[38;5;241m=\u001B[39m \u001B[43mstep\u001B[49m\u001B[38;5;241;43m.\u001B[39;49m\u001B[43minvoke\u001B[49m\u001B[43m(\u001B[49m\n\u001B[1;32m   1214\u001B[0m \u001B[43m            \u001B[49m\u001B[38;5;28;43minput\u001B[39;49m\u001B[43m,\u001B[49m\n\u001B[1;32m   1215\u001B[0m \u001B[43m            \u001B[49m\u001B[38;5;66;43;03m# mark each step as a child run\u001B[39;49;00m\n\u001B[1;32m   1216\u001B[0m \u001B[43m            \u001B[49m\u001B[43mpatch_config\u001B[49m\u001B[43m(\u001B[49m\n\u001B[1;32m   1217\u001B[0m \u001B[43m                \u001B[49m\u001B[43mconfig\u001B[49m\u001B[43m,\u001B[49m\u001B[43m \u001B[49m\u001B[43mcallbacks\u001B[49m\u001B[38;5;241;43m=\u001B[39;49m\u001B[43mrun_manager\u001B[49m\u001B[38;5;241;43m.\u001B[39;49m\u001B[43mget_child\u001B[49m\u001B[43m(\u001B[49m\u001B[38;5;124;43mf\u001B[39;49m\u001B[38;5;124;43m\"\u001B[39;49m\u001B[38;5;124;43mseq:step:\u001B[39;49m\u001B[38;5;132;43;01m{\u001B[39;49;00m\u001B[43mi\u001B[49m\u001B[38;5;241;43m+\u001B[39;49m\u001B[38;5;241;43m1\u001B[39;49m\u001B[38;5;132;43;01m}\u001B[39;49;00m\u001B[38;5;124;43m\"\u001B[39;49m\u001B[43m)\u001B[49m\n\u001B[1;32m   1218\u001B[0m \u001B[43m            \u001B[49m\u001B[43m)\u001B[49m\u001B[43m,\u001B[49m\n\u001B[1;32m   1219\u001B[0m \u001B[43m        \u001B[49m\u001B[43m)\u001B[49m\n\u001B[1;32m   1220\u001B[0m \u001B[38;5;66;03m# finish the root run\u001B[39;00m\n\u001B[1;32m   1221\u001B[0m \u001B[38;5;28;01mexcept\u001B[39;00m \u001B[38;5;167;01mBaseException\u001B[39;00m \u001B[38;5;28;01mas\u001B[39;00m e:\n",
      "File \u001B[0;32m~/anaconda3/envs/metabrain/lib/python3.10/site-packages/langchain/schema/prompt_template.py:60\u001B[0m, in \u001B[0;36mBasePromptTemplate.invoke\u001B[0;34m(self, input, config)\u001B[0m\n\u001B[1;32m     57\u001B[0m \u001B[38;5;28;01mdef\u001B[39;00m \u001B[38;5;21minvoke\u001B[39m(\n\u001B[1;32m     58\u001B[0m     \u001B[38;5;28mself\u001B[39m, \u001B[38;5;28minput\u001B[39m: Dict, config: Optional[RunnableConfig] \u001B[38;5;241m=\u001B[39m \u001B[38;5;28;01mNone\u001B[39;00m\n\u001B[1;32m     59\u001B[0m ) \u001B[38;5;241m-\u001B[39m\u001B[38;5;241m>\u001B[39m PromptValue:\n\u001B[0;32m---> 60\u001B[0m     \u001B[38;5;28;01mreturn\u001B[39;00m \u001B[38;5;28;43mself\u001B[39;49m\u001B[38;5;241;43m.\u001B[39;49m\u001B[43m_call_with_config\u001B[49m\u001B[43m(\u001B[49m\n\u001B[1;32m     61\u001B[0m \u001B[43m        \u001B[49m\u001B[38;5;28;43;01mlambda\u001B[39;49;00m\u001B[43m \u001B[49m\u001B[43minner_input\u001B[49m\u001B[43m:\u001B[49m\u001B[43m \u001B[49m\u001B[38;5;28;43mself\u001B[39;49m\u001B[38;5;241;43m.\u001B[39;49m\u001B[43mformat_prompt\u001B[49m\u001B[43m(\u001B[49m\n\u001B[1;32m     62\u001B[0m \u001B[43m            \u001B[49m\u001B[38;5;241;43m*\u001B[39;49m\u001B[38;5;241;43m*\u001B[39;49m\u001B[43m{\u001B[49m\u001B[43mkey\u001B[49m\u001B[43m:\u001B[49m\u001B[43m \u001B[49m\u001B[43minner_input\u001B[49m\u001B[43m[\u001B[49m\u001B[43mkey\u001B[49m\u001B[43m]\u001B[49m\u001B[43m \u001B[49m\u001B[38;5;28;43;01mfor\u001B[39;49;00m\u001B[43m \u001B[49m\u001B[43mkey\u001B[49m\u001B[43m \u001B[49m\u001B[38;5;129;43;01min\u001B[39;49;00m\u001B[43m \u001B[49m\u001B[38;5;28;43mself\u001B[39;49m\u001B[38;5;241;43m.\u001B[39;49m\u001B[43minput_variables\u001B[49m\u001B[43m}\u001B[49m\n\u001B[1;32m     63\u001B[0m \u001B[43m        \u001B[49m\u001B[43m)\u001B[49m\u001B[43m,\u001B[49m\n\u001B[1;32m     64\u001B[0m \u001B[43m        \u001B[49m\u001B[38;5;28;43minput\u001B[39;49m\u001B[43m,\u001B[49m\n\u001B[1;32m     65\u001B[0m \u001B[43m        \u001B[49m\u001B[43mconfig\u001B[49m\u001B[43m,\u001B[49m\n\u001B[1;32m     66\u001B[0m \u001B[43m        \u001B[49m\u001B[43mrun_type\u001B[49m\u001B[38;5;241;43m=\u001B[39;49m\u001B[38;5;124;43m\"\u001B[39;49m\u001B[38;5;124;43mprompt\u001B[39;49m\u001B[38;5;124;43m\"\u001B[39;49m\u001B[43m,\u001B[49m\n\u001B[1;32m     67\u001B[0m \u001B[43m    \u001B[49m\u001B[43m)\u001B[49m\n",
      "File \u001B[0;32m~/anaconda3/envs/metabrain/lib/python3.10/site-packages/langchain/schema/runnable/base.py:715\u001B[0m, in \u001B[0;36mRunnable._call_with_config\u001B[0;34m(self, func, input, config, run_type, **kwargs)\u001B[0m\n\u001B[1;32m    708\u001B[0m run_manager \u001B[38;5;241m=\u001B[39m callback_manager\u001B[38;5;241m.\u001B[39mon_chain_start(\n\u001B[1;32m    709\u001B[0m     dumpd(\u001B[38;5;28mself\u001B[39m),\n\u001B[1;32m    710\u001B[0m     \u001B[38;5;28minput\u001B[39m,\n\u001B[1;32m    711\u001B[0m     run_type\u001B[38;5;241m=\u001B[39mrun_type,\n\u001B[1;32m    712\u001B[0m     name\u001B[38;5;241m=\u001B[39mconfig\u001B[38;5;241m.\u001B[39mget(\u001B[38;5;124m\"\u001B[39m\u001B[38;5;124mrun_name\u001B[39m\u001B[38;5;124m\"\u001B[39m),\n\u001B[1;32m    713\u001B[0m )\n\u001B[1;32m    714\u001B[0m \u001B[38;5;28;01mtry\u001B[39;00m:\n\u001B[0;32m--> 715\u001B[0m     output \u001B[38;5;241m=\u001B[39m \u001B[43mcall_func_with_variable_args\u001B[49m\u001B[43m(\u001B[49m\n\u001B[1;32m    716\u001B[0m \u001B[43m        \u001B[49m\u001B[43mfunc\u001B[49m\u001B[43m,\u001B[49m\u001B[43m \u001B[49m\u001B[38;5;28;43minput\u001B[39;49m\u001B[43m,\u001B[49m\u001B[43m \u001B[49m\u001B[43mconfig\u001B[49m\u001B[43m,\u001B[49m\u001B[43m \u001B[49m\u001B[43mrun_manager\u001B[49m\u001B[43m,\u001B[49m\u001B[43m \u001B[49m\u001B[38;5;241;43m*\u001B[39;49m\u001B[38;5;241;43m*\u001B[39;49m\u001B[43mkwargs\u001B[49m\n\u001B[1;32m    717\u001B[0m \u001B[43m    \u001B[49m\u001B[43m)\u001B[49m\n\u001B[1;32m    718\u001B[0m \u001B[38;5;28;01mexcept\u001B[39;00m \u001B[38;5;167;01mBaseException\u001B[39;00m \u001B[38;5;28;01mas\u001B[39;00m e:\n\u001B[1;32m    719\u001B[0m     run_manager\u001B[38;5;241m.\u001B[39mon_chain_error(e)\n",
      "File \u001B[0;32m~/anaconda3/envs/metabrain/lib/python3.10/site-packages/langchain/schema/runnable/config.py:308\u001B[0m, in \u001B[0;36mcall_func_with_variable_args\u001B[0;34m(func, input, config, run_manager, **kwargs)\u001B[0m\n\u001B[1;32m    306\u001B[0m \u001B[38;5;28;01mif\u001B[39;00m run_manager \u001B[38;5;129;01mis\u001B[39;00m \u001B[38;5;129;01mnot\u001B[39;00m \u001B[38;5;28;01mNone\u001B[39;00m \u001B[38;5;129;01mand\u001B[39;00m accepts_run_manager(func):\n\u001B[1;32m    307\u001B[0m     kwargs[\u001B[38;5;124m\"\u001B[39m\u001B[38;5;124mrun_manager\u001B[39m\u001B[38;5;124m\"\u001B[39m] \u001B[38;5;241m=\u001B[39m run_manager\n\u001B[0;32m--> 308\u001B[0m \u001B[38;5;28;01mreturn\u001B[39;00m \u001B[43mfunc\u001B[49m\u001B[43m(\u001B[49m\u001B[38;5;28;43minput\u001B[39;49m\u001B[43m,\u001B[49m\u001B[43m \u001B[49m\u001B[38;5;241;43m*\u001B[39;49m\u001B[38;5;241;43m*\u001B[39;49m\u001B[43mkwargs\u001B[49m\u001B[43m)\u001B[49m\n",
      "File \u001B[0;32m~/anaconda3/envs/metabrain/lib/python3.10/site-packages/langchain/schema/prompt_template.py:62\u001B[0m, in \u001B[0;36mBasePromptTemplate.invoke.<locals>.<lambda>\u001B[0;34m(inner_input)\u001B[0m\n\u001B[1;32m     57\u001B[0m \u001B[38;5;28;01mdef\u001B[39;00m \u001B[38;5;21minvoke\u001B[39m(\n\u001B[1;32m     58\u001B[0m     \u001B[38;5;28mself\u001B[39m, \u001B[38;5;28minput\u001B[39m: Dict, config: Optional[RunnableConfig] \u001B[38;5;241m=\u001B[39m \u001B[38;5;28;01mNone\u001B[39;00m\n\u001B[1;32m     59\u001B[0m ) \u001B[38;5;241m-\u001B[39m\u001B[38;5;241m>\u001B[39m PromptValue:\n\u001B[1;32m     60\u001B[0m     \u001B[38;5;28;01mreturn\u001B[39;00m \u001B[38;5;28mself\u001B[39m\u001B[38;5;241m.\u001B[39m_call_with_config(\n\u001B[1;32m     61\u001B[0m         \u001B[38;5;28;01mlambda\u001B[39;00m inner_input: \u001B[38;5;28mself\u001B[39m\u001B[38;5;241m.\u001B[39mformat_prompt(\n\u001B[0;32m---> 62\u001B[0m             \u001B[38;5;241m*\u001B[39m\u001B[38;5;241m*\u001B[39m{key: inner_input[key] \u001B[38;5;28;01mfor\u001B[39;00m key \u001B[38;5;129;01min\u001B[39;00m \u001B[38;5;28mself\u001B[39m\u001B[38;5;241m.\u001B[39minput_variables}\n\u001B[1;32m     63\u001B[0m         ),\n\u001B[1;32m     64\u001B[0m         \u001B[38;5;28minput\u001B[39m,\n\u001B[1;32m     65\u001B[0m         config,\n\u001B[1;32m     66\u001B[0m         run_type\u001B[38;5;241m=\u001B[39m\u001B[38;5;124m\"\u001B[39m\u001B[38;5;124mprompt\u001B[39m\u001B[38;5;124m\"\u001B[39m,\n\u001B[1;32m     67\u001B[0m     )\n",
      "File \u001B[0;32m~/anaconda3/envs/metabrain/lib/python3.10/site-packages/langchain/schema/prompt_template.py:62\u001B[0m, in \u001B[0;36m<dictcomp>\u001B[0;34m(.0)\u001B[0m\n\u001B[1;32m     57\u001B[0m \u001B[38;5;28;01mdef\u001B[39;00m \u001B[38;5;21minvoke\u001B[39m(\n\u001B[1;32m     58\u001B[0m     \u001B[38;5;28mself\u001B[39m, \u001B[38;5;28minput\u001B[39m: Dict, config: Optional[RunnableConfig] \u001B[38;5;241m=\u001B[39m \u001B[38;5;28;01mNone\u001B[39;00m\n\u001B[1;32m     59\u001B[0m ) \u001B[38;5;241m-\u001B[39m\u001B[38;5;241m>\u001B[39m PromptValue:\n\u001B[1;32m     60\u001B[0m     \u001B[38;5;28;01mreturn\u001B[39;00m \u001B[38;5;28mself\u001B[39m\u001B[38;5;241m.\u001B[39m_call_with_config(\n\u001B[1;32m     61\u001B[0m         \u001B[38;5;28;01mlambda\u001B[39;00m inner_input: \u001B[38;5;28mself\u001B[39m\u001B[38;5;241m.\u001B[39mformat_prompt(\n\u001B[0;32m---> 62\u001B[0m             \u001B[38;5;241m*\u001B[39m\u001B[38;5;241m*\u001B[39m{key: \u001B[43minner_input\u001B[49m\u001B[43m[\u001B[49m\u001B[43mkey\u001B[49m\u001B[43m]\u001B[49m \u001B[38;5;28;01mfor\u001B[39;00m key \u001B[38;5;129;01min\u001B[39;00m \u001B[38;5;28mself\u001B[39m\u001B[38;5;241m.\u001B[39minput_variables}\n\u001B[1;32m     63\u001B[0m         ),\n\u001B[1;32m     64\u001B[0m         \u001B[38;5;28minput\u001B[39m,\n\u001B[1;32m     65\u001B[0m         config,\n\u001B[1;32m     66\u001B[0m         run_type\u001B[38;5;241m=\u001B[39m\u001B[38;5;124m\"\u001B[39m\u001B[38;5;124mprompt\u001B[39m\u001B[38;5;124m\"\u001B[39m,\n\u001B[1;32m     67\u001B[0m     )\n",
      "\u001B[0;31mKeyError\u001B[0m: 'context'"
     ]
    }
   ],
   "source": [
    "chain.invoke(\n",
    "    input={\n",
    "        \"question\": query,\n",
    "    }\n",
    ")"
   ],
   "metadata": {
    "collapsed": false,
    "ExecuteTime": {
     "end_time": "2023-11-15T04:02:23.525649Z",
     "start_time": "2023-11-15T04:02:23.490511Z"
    }
   }
  },
  {
   "cell_type": "code",
   "execution_count": 36,
   "outputs": [],
   "source": [
    "from langchain.schema.runnable import RunnableMap\n",
    "\n",
    "retriever = vectordb.as_retriever(search_type=\"mmr\", k=5, fetch_k=10)\n",
    "\n",
    "chain = RunnableMap({\n",
    "    \"context\": lambda x: retriever.get_relevant_documents(x[\"question\"]),\n",
    "    \"question\": lambda x: x[\"question\"]\n",
    "}) | prompt | model | output_parser"
   ],
   "metadata": {
    "collapsed": false,
    "ExecuteTime": {
     "end_time": "2023-11-15T04:02:24.771878Z",
     "start_time": "2023-11-15T04:02:24.758952Z"
    }
   }
  },
  {
   "cell_type": "code",
   "execution_count": 37,
   "outputs": [
    {
     "data": {
      "text/plain": "'Certainly! Below is a Python script for a Directional Strategy using Hummingbot with the MACDBB controller. The script inherits from `ScriptStrategyBase` and initializes the MACDBB controller with suggested values for the MACD and Bollinger Bands indicators. Please note that the values for the indicators are just suggestions and should be fine-tuned based on your trading preferences and backtesting results.\\n\\n```python\\nfrom decimal import Decimal\\nfrom hummingbot.connector.connector_base import ConnectorBase\\nfrom hummingbot.smart_components.controllers.macd_bb_v1 import MACDBBV1, MACDBBV1Config\\nfrom hummingbot.smart_components.strategy_frameworks.directional_trading.directional_trading_executor_handler import (\\n    DirectionalTradingExecutorHandler,\\n)\\nfrom hummingbot.strategy.script_strategy_base import ScriptStrategyBase\\n\\n\\nclass DirectionalMACDBBStrategy(ScriptStrategyBase):\\n    # Configuration variables\\n    trading_pair = \"ETH-USDT\"\\n    exchange = \"kucoin_paper_trade\"\\n    \\n    # MACDBB configuration\\n    macd_fast_period = 12\\n    macd_slow_period = 26\\n    macd_signal_period = 9\\n    bb_period = 20\\n    bb_std_dev_multiplier = 2\\n    \\n    # Initialize the MACDBB controller with the suggested values\\n    macd_bb_config = MACDBBV1Config(\\n        trading_pair=trading_pair,\\n        macd_fast_period=macd_fast_period,\\n        macd_slow_period=macd_slow_period,\\n        macd_signal_period=macd_signal_period,\\n        bb_period=bb_period,\\n        bb_std_dev_multiplier=bb_std_dev_multiplier\\n    )\\n    controllers = {\\n        trading_pair: MACDBBV1(config=macd_bb_config)\\n    }\\n    \\n    def __init__(self, connectors: Dict[str, ConnectorBase]):\\n        super().__init__(connectors)\\n        self.executor_handlers = {}\\n        for trading_pair, controller in self.controllers.items():\\n            self.executor_handlers[trading_pair] = DirectionalTradingExecutorHandler(\\n                strategy=self, controller=controller\\n            )\\n        self.start_executor_handlers()\\n\\n    def start_executor_handlers(self):\\n        for executor_handler in self.executor_handlers.values():\\n            executor_handler.start()\\n\\n    def on_tick(self):\\n        # This method will be called periodically by the Hummingbot framework\\n        pass\\n\\n    def on_stop(self):\\n        # This method will be called when the strategy is stopped\\n        for executor_handler in self.executor_handlers.values():\\n            executor_handler.stop()\\n\\n    def format_status(self) -> str:\\n        # This method formats the status message for the strategy\\n        if not self.ready_to_trade:\\n            return \"Market connectors are not ready.\"\\n        lines = []\\n        for trading_pair, executor_handler in self.executor_handlers.items():\\n            lines.extend([\\n                f\"Strategy: {executor_handler.controller.config.strategy_name} | Trading Pair: {trading_pair}\",\\n                executor_handler.to_format_status()\\n            ])\\n        return \"\\\\n\".join(lines)\\n\\n\\n# You would typically run the strategy like this:\\n# connectors = {\"kucoin_paper_trade\": KucoinConnector(...)}\\n# strategy = DirectionalMACDBBStrategy(connectors)\\n# strategy.start()\\n```\\n\\nPlease replace the `KucoinConnector(...)` with the actual initialization of the connector you are using. The values for the MACD and Bollinger Bands indicators are set to common defaults, but you should adjust them according to your strategy needs and backtest the strategy to ensure it performs well with historical data before running it live.'"
     },
     "execution_count": 37,
     "metadata": {},
     "output_type": "execute_result"
    }
   ],
   "source": [
    "chain.invoke(\n",
    "    input={\n",
    "        \"question\": query,\n",
    "    }\n",
    ")"
   ],
   "metadata": {
    "collapsed": false,
    "ExecuteTime": {
     "end_time": "2023-11-15T04:03:01.187909Z",
     "start_time": "2023-11-15T04:02:27.254002Z"
    }
   }
  },
  {
   "cell_type": "code",
   "execution_count": 38,
   "outputs": [],
   "source": [
    "class Strategy(BaseModel):\n",
    "    \"\"\"Strategy created by the LLM for the user.\"\"\"\n",
    "    code: str = Field(description=\"Provide the python code for the strategy.\")\n",
    "    summary: str = Field(description=\"Provide a concise summary of what the strategy is doing.\")"
   ],
   "metadata": {
    "collapsed": false,
    "ExecuteTime": {
     "end_time": "2023-11-15T04:03:23.816858Z",
     "start_time": "2023-11-15T04:03:23.800744Z"
    }
   }
  },
  {
   "cell_type": "code",
   "execution_count": 39,
   "outputs": [],
   "source": [
    "\n",
    "strategy_extraction_function = [\n",
    "    convert_pydantic_to_openai_function(Strategy)\n",
    "]\n",
    "tagging_model = model.bind(\n",
    "    functions=strategy_extraction_function,\n",
    "    function_call={\"name\":\"Strategy\"}\n",
    ")"
   ],
   "metadata": {
    "collapsed": false,
    "ExecuteTime": {
     "end_time": "2023-11-15T04:03:24.497677Z",
     "start_time": "2023-11-15T04:03:24.485892Z"
    }
   }
  },
  {
   "cell_type": "code",
   "execution_count": 40,
   "outputs": [],
   "source": [
    "from langchain.output_parsers.openai_functions import JsonOutputFunctionsParser\n",
    "\n",
    "tagging_chain = RunnableMap({\n",
    "    \"context\": lambda x: retriever.get_relevant_documents(x[\"question\"]),\n",
    "    \"question\": lambda x: x[\"question\"]\n",
    "}) | prompt | model | StrOutputParser() | tagging_model | JsonOutputFunctionsParser()"
   ],
   "metadata": {
    "collapsed": false,
    "ExecuteTime": {
     "end_time": "2023-11-15T04:03:27.431366Z",
     "start_time": "2023-11-15T04:03:27.415665Z"
    }
   }
  },
  {
   "cell_type": "code",
   "execution_count": 41,
   "outputs": [],
   "source": [
    "result = tagging_chain.invoke(\n",
    "    input={\n",
    "        \"question\": query,\n",
    "    }\n",
    ")"
   ],
   "metadata": {
    "collapsed": false,
    "ExecuteTime": {
     "end_time": "2023-11-15T04:04:18.219164Z",
     "start_time": "2023-11-15T04:03:30.545071Z"
    }
   }
  },
  {
   "cell_type": "code",
   "execution_count": 42,
   "outputs": [
    {
     "name": "stdout",
     "output_type": "stream",
     "text": [
      "This Python script defines a `DirectionalMACDStrategy` class for use with Hummingbot, which employs a MACDBB controller to inform trading decisions. The strategy is configured for the ETH-USDT trading pair on a paper trade exchange (Kucoin). It initializes the MACDBB controller with specific periods for the MACD and Bollinger Bands indicators, which can be adjusted to suit different trading styles and market conditions. The strategy includes methods for starting executor handlers, handling ticks, stopping the strategy, and formatting status updates. It is designed to be instantiated with the necessary connectors for the specified exchange.\n"
     ]
    }
   ],
   "source": [
    "print(result[\"summary\"])"
   ],
   "metadata": {
    "collapsed": false,
    "ExecuteTime": {
     "end_time": "2023-11-15T04:04:18.225329Z",
     "start_time": "2023-11-15T04:04:18.220915Z"
    }
   }
  },
  {
   "cell_type": "code",
   "execution_count": 43,
   "outputs": [
    {
     "name": "stdout",
     "output_type": "stream",
     "text": [
      "from decimal import Decimal\n",
      "from typing import Dict\n",
      "\n",
      "from hummingbot.connector.connector_base import ConnectorBase\n",
      "from hummingbot.core.data_type.common import OrderType\n",
      "from hummingbot.data_feed.candles_feed.candles_factory import CandlesConfig\n",
      "from hummingbot.smart_components.controllers.macd_bb_v1 import MACDBBV1, MACDBBV1Config\n",
      "from hummingbot.smart_components.strategy_frameworks.directional_trading.directional_trading_executor_handler import (\n",
      "    DirectionalTradingExecutorHandler,\n",
      ")\n",
      "from hummingbot.strategy.script_strategy_base import ScriptStrategyBase\n",
      "\n",
      "\n",
      "class DirectionalMACDStrategy(ScriptStrategyBase):\n",
      "    # Configuration\n",
      "    trading_pair = \"ETH-USDT\"\n",
      "    exchange = \"kucoin_paper_trade\"\n",
      "    \n",
      "    # MACDBB configuration\n",
      "    macd_fast_period = 12\n",
      "    macd_slow_period = 26\n",
      "    macd_signal_period = 9\n",
      "    bb_period = 20\n",
      "    bb_std_dev_multiplier = 2\n",
      "    \n",
      "    # Initialize controllers and executor handler\n",
      "    controllers = {\n",
      "        trading_pair: MACDBBV1(\n",
      "            config=MACDBBV1Config(\n",
      "                candles_config=CandlesConfig(\n",
      "                    trading_pair=trading_pair,\n",
      "                    interval=\"1m\",\n",
      "                    limit=100\n",
      "                ),\n",
      "                macd_fast_period=macd_fast_period,\n",
      "                macd_slow_period=macd_slow_period,\n",
      "                macd_signal_period=macd_signal_period,\n",
      "                bb_period=bb_period,\n",
      "                bb_std_dev_multiplier=bb_std_dev_multiplier\n",
      "            )\n",
      "        )\n",
      "    }\n",
      "    \n",
      "    def __init__(self, connectors: Dict[str, ConnectorBase]):\n",
      "        super().__init__(connectors)\n",
      "        for trading_pair, controller in self.controllers.items():\n",
      "            self.executor_handlers[trading_pair] = DirectionalTradingExecutorHandler(\n",
      "                strategy=self, controller=controller\n",
      "            )\n",
      "        self.start_executor_handlers()\n",
      "\n",
      "    def start_executor_handlers(self):\n",
      "        for executor_handler in self.executor_handlers.values():\n",
      "            if executor_handler.status == ExecutorHandlerStatus.NOT_STARTED:\n",
      "                executor_handler.start()\n",
      "\n",
      "    def on_tick(self):\n",
      "        # This method will be called periodically by the Hummingbot framework\n",
      "        pass\n",
      "\n",
      "    def on_stop(self):\n",
      "        for executor_handler in self.executor_handlers.values():\n",
      "            executor_handler.stop()\n",
      "\n",
      "    def format_status(self) -> str:\n",
      "        if not self.ready_to_trade:\n",
      "            return \"Market connectors are not ready.\"\n",
      "        lines = []\n",
      "        for trading_pair, executor_handler in self.executor_handlers.items():\n",
      "            if executor_handler.controller.all_candles_ready:\n",
      "                lines.extend([\n",
      "                    f\"Strategy: {executor_handler.controller.config.strategy_name} | Trading Pair: {trading_pair}\",\n",
      "                    executor_handler.to_format_status()\n",
      "                ])\n",
      "        return \"\\n\".join(lines)\n",
      "\n",
      "\n",
      "# You would typically run this strategy by instantiating it with the required connectors\n",
      "# connectors = {\"kucoin_paper_trade\": kucoin_connector_instance}\n",
      "# strategy = DirectionalMACDStrategy(connectors=connectors)\n",
      "\n"
     ]
    }
   ],
   "source": [
    "print(result[\"code\"])"
   ],
   "metadata": {
    "collapsed": false,
    "ExecuteTime": {
     "end_time": "2023-11-15T04:04:18.239672Z",
     "start_time": "2023-11-15T04:04:18.233341Z"
    }
   }
  }
 ],
 "metadata": {
  "kernelspec": {
   "display_name": "Python 3",
   "language": "python",
   "name": "python3"
  },
  "language_info": {
   "codemirror_mode": {
    "name": "ipython",
    "version": 2
   },
   "file_extension": ".py",
   "mimetype": "text/x-python",
   "name": "python",
   "nbconvert_exporter": "python",
   "pygments_lexer": "ipython2",
   "version": "2.7.6"
  }
 },
 "nbformat": 4,
 "nbformat_minor": 0
}
