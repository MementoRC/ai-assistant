{
 "cells": [
  {
   "cell_type": "code",
   "execution_count": null,
   "metadata": {
    "collapsed": true
   },
   "outputs": [],
   "source": [
    "import os\n",
    "from langchain.vectorstores.chroma import Chroma\n",
    "from langchain.embeddings import OpenAIEmbeddings\n",
    "from langchain.chat_models import ChatOpenAI\n",
    "from pydantic import BaseModel, Field\n",
    "from langchain.utils.openai_functions import convert_pydantic_to_openai_function\n",
    "\n",
    "from dotenv import load_dotenv\n",
    "\n",
    "load_dotenv()\n",
    "\n",
    "llm_name = \"gpt-4-1106-preview\"\n",
    "os.environ[\"OPENAI_API_KEY\"]  # you should see the api key if the .env file is loaded correctly"
   ]
  },
  {
   "cell_type": "code",
   "execution_count": 19,
   "outputs": [],
   "source": [
    "persist_directory = \"/Users/dardonacci/Documents/dardonacci/2-Code/metabrain/vector_stores/hummingbot/chroma/\"\n",
    "\n",
    "embedding = OpenAIEmbeddings()\n",
    "\n",
    "vectordb = Chroma(\n",
    "    collection_name=\"hummingbot_scripts\",\n",
    "    persist_directory=persist_directory,\n",
    "    embedding_function=embedding\n",
    ")"
   ],
   "metadata": {
    "collapsed": false,
    "ExecuteTime": {
     "end_time": "2023-11-28T18:04:53.158476Z",
     "start_time": "2023-11-28T18:04:53.144687Z"
    }
   }
  },
  {
   "cell_type": "code",
   "execution_count": 21,
   "outputs": [
    {
     "data": {
      "text/plain": "\"\\n# Algorithmic Trading Strategy Development in Hummingbot\\n\\nAs an expert in bot trading, your assignment involves creating a comprehensive Python script for a trading strategy using Hummingbot, a community-driven open source project designed to aid in building high-frequency trading bots. \\n\\nKeep the following guidelines in mind during your development phase:\\n\\n- The Python script should be written with object-oriented principles in mind. \\n- Class variables should be used to configure your script accordingly.\\n- Your script will be extending the `ScriptStrategyBase` class, effectively inheriting all its methods and attributes.\\n- Each controller should be initialized while defining your class variables.\\n- Your executor handler should commence within your `__init__` method.\\n\\nBe as thorough as possible, detailing your thought process and the purpose of each segment of code. Should you require additional information from the user, don't hesitate to ask for clarification. However, in situations where you're uncertain about the answer, kindly avoid assumptions and admit lack of knowledge. \\n\\n**Now let's get coding:**\\n\\nGiven Context: \\n```\\n{context}\\n```\\nTask: \\n```\\n{question}\\n```\\nProposed Solution: \\n```\\n\""
     },
     "execution_count": 21,
     "metadata": {},
     "output_type": "execute_result"
    }
   ],
   "source": [
    "from useful_prompts.create_scripts import prompt_1\n",
    "\n",
    "prompt_1"
   ],
   "metadata": {
    "collapsed": false,
    "ExecuteTime": {
     "end_time": "2023-11-28T18:06:00.046984Z",
     "start_time": "2023-11-28T18:06:00.042359Z"
    }
   }
  },
  {
   "cell_type": "code",
   "execution_count": 23,
   "outputs": [],
   "source": [
    "from langchain.schema import StrOutputParser\n",
    "from langchain.prompts import ChatPromptTemplate\n",
    "\n",
    "# Build prompt\n",
    "\n",
    "prompt = ChatPromptTemplate.from_template(template=prompt_1)\n",
    "model = ChatOpenAI(model_name=llm_name, temperature=0)\n",
    "output_parser = StrOutputParser()\n",
    "\n",
    "chain = prompt | model"
   ],
   "metadata": {
    "collapsed": false,
    "ExecuteTime": {
     "end_time": "2023-11-28T18:06:12.519748Z",
     "start_time": "2023-11-28T18:06:12.515418Z"
    }
   }
  },
  {
   "cell_type": "code",
   "execution_count": 24,
   "outputs": [],
   "source": [
    "query = \"\"\"I would like to create a Directional Strategy using Hummingbot using the MACDBB controller. Can you the script for me and suggest values for the indicators?\n",
    "\"\"\""
   ],
   "metadata": {
    "collapsed": false,
    "ExecuteTime": {
     "end_time": "2023-11-28T18:06:13.181237Z",
     "start_time": "2023-11-28T18:06:13.176622Z"
    }
   }
  },
  {
   "cell_type": "code",
   "execution_count": 25,
   "outputs": [],
   "source": [
    "from langchain.schema.runnable import RunnableMap\n",
    "\n",
    "retriever = vectordb.as_retriever(search_type=\"mmr\", k=5, fetch_k=10)\n",
    "\n",
    "chain = RunnableMap({\n",
    "    \"context\": lambda x: retriever.get_relevant_documents(x[\"question\"]),\n",
    "    \"question\": lambda x: x[\"question\"]\n",
    "}) | prompt | model | output_parser"
   ],
   "metadata": {
    "collapsed": false,
    "ExecuteTime": {
     "end_time": "2023-11-28T18:06:13.689067Z",
     "start_time": "2023-11-28T18:06:13.685659Z"
    }
   }
  },
  {
   "cell_type": "code",
   "execution_count": null,
   "outputs": [],
   "source": [
    "chain.invoke(\n",
    "    input={\n",
    "        \"question\": query,\n",
    "    }\n",
    ")"
   ],
   "metadata": {
    "collapsed": false,
    "is_executing": true,
    "ExecuteTime": {
     "start_time": "2023-11-28T18:06:15.280192Z"
    }
   }
  },
  {
   "cell_type": "code",
   "execution_count": 12,
   "outputs": [],
   "source": [
    "class Strategy(BaseModel):\n",
    "    \"\"\"Strategy created by the LLM for the user.\"\"\"\n",
    "    code: str = Field(description=\"Provide the python code for the strategy.\")\n",
    "    summary: str = Field(description=\"Provide a concise summary of what the strategy is doing.\")"
   ],
   "metadata": {
    "collapsed": false,
    "ExecuteTime": {
     "end_time": "2023-11-28T17:18:49.324899Z",
     "start_time": "2023-11-28T17:18:49.322402Z"
    }
   }
  },
  {
   "cell_type": "code",
   "execution_count": 13,
   "outputs": [],
   "source": [
    "\n",
    "strategy_extraction_function = [\n",
    "    convert_pydantic_to_openai_function(Strategy)\n",
    "]\n",
    "tagging_model = model.bind(\n",
    "    functions=strategy_extraction_function,\n",
    "    function_call={\"name\":\"Strategy\"}\n",
    ")"
   ],
   "metadata": {
    "collapsed": false,
    "ExecuteTime": {
     "end_time": "2023-11-28T17:18:49.329376Z",
     "start_time": "2023-11-28T17:18:49.326815Z"
    }
   }
  },
  {
   "cell_type": "code",
   "execution_count": 14,
   "outputs": [],
   "source": [
    "from langchain.output_parsers.openai_functions import JsonOutputFunctionsParser\n",
    "\n",
    "tagging_chain = RunnableMap({\n",
    "    \"context\": lambda x: retriever.get_relevant_documents(x[\"question\"]),\n",
    "    \"question\": lambda x: x[\"question\"]\n",
    "}) | prompt | model | StrOutputParser() | tagging_model | JsonOutputFunctionsParser()"
   ],
   "metadata": {
    "collapsed": false,
    "ExecuteTime": {
     "end_time": "2023-11-28T17:18:49.358224Z",
     "start_time": "2023-11-28T17:18:49.332343Z"
    }
   }
  },
  {
   "cell_type": "code",
   "execution_count": 15,
   "outputs": [],
   "source": [
    "result = tagging_chain.invoke(\n",
    "    input={\n",
    "        \"question\": query,\n",
    "    }\n",
    ")"
   ],
   "metadata": {
    "collapsed": false,
    "ExecuteTime": {
     "end_time": "2023-11-28T17:20:32.795746Z",
     "start_time": "2023-11-28T17:18:49.357219Z"
    }
   }
  },
  {
   "cell_type": "code",
   "execution_count": 16,
   "outputs": [
    {
     "name": "stdout",
     "output_type": "stream",
     "text": [
      "The provided Python script is a template for a Directional Strategy using Hummingbot with the MACDBB controller. It defines a class `MACDBBDirectionalStrategy` that extends `ScriptStrategyBase` and includes configuration for the trading pair, exchange, and order amount. The strategy uses the MACDBB controller with initial values for the MACD and Bollinger Bands indicators. The `on_tick` method contains the main trading logic, which checks the MACDBB signal to decide on placing buy or sell orders. Placeholder methods for determining buy/sell prices and order placement need to be implemented. The script requires further development and optimization based on historical data and market conditions before actual trading.\n"
     ]
    }
   ],
   "source": [
    "print(result[\"summary\"])"
   ],
   "metadata": {
    "collapsed": false,
    "ExecuteTime": {
     "end_time": "2023-11-28T17:20:32.800495Z",
     "start_time": "2023-11-28T17:20:32.794334Z"
    }
   }
  },
  {
   "cell_type": "code",
   "execution_count": 17,
   "outputs": [
    {
     "name": "stdout",
     "output_type": "stream",
     "text": [
      "from decimal import Decimal\n",
      "from hummingbot.connector.connector_base import ConnectorBase\n",
      "from hummingbot.core.data_type.common import OrderType\n",
      "from hummingbot.smart_components.controllers.macd_bb_v1 import MACDBBV1, MACDBBV1Config\n",
      "from hummingbot.strategy.script_strategy_base import ScriptStrategyBase\n",
      "\n",
      "class MACDBBDirectionalStrategy(ScriptStrategyBase):\n",
      "    # Configuration\n",
      "    trading_pair = \"BTC-USDT\"  # Example trading pair\n",
      "    exchange = \"binance\"  # Example exchange\n",
      "    order_amount = Decimal(\"0.01\")  # Example order amount in base currency\n",
      "\n",
      "    # MACDBB Configuration\n",
      "    macd_bb_config = MACDBBV1Config(\n",
      "        fast_ema_period=12,  # Fast EMA period for MACD\n",
      "        slow_ema_period=26,  # Slow EMA period for MACD\n",
      "        signal_ema_period=9,  # Signal EMA period for MACD\n",
      "        bollinger_band_period=20,  # Bollinger Bands period\n",
      "        bollinger_band_std_dev=2  # Bollinger Bands standard deviation\n",
      "    )\n",
      "    macd_bb_controller = None\n",
      "\n",
      "    def __init__(self, connectors: Dict[str, ConnectorBase]):\n",
      "        super().__init__(connectors)\n",
      "        self.macd_bb_controller = MACDBBV1(self.macd_bb_config)\n",
      "\n",
      "    def on_tick(self):\n",
      "        # This method will be called periodically by the Hummingbot framework\n",
      "        # Here you can check the MACDBB signals and decide whether to place orders\n",
      "\n",
      "        # Get the latest MACDBB signal\n",
      "        macd_bb_signal = self.macd_bb_controller.get_signal(self.trading_pair)\n",
      "\n",
      "        # Implement your trading logic based on the signal\n",
      "        if macd_bb_signal == MACDBBV1.Signal.LONG:\n",
      "            # Place a buy order\n",
      "            self.place_order(self.trading_pair, OrderType.LIMIT, TradeType.BUY, self.order_amount, self.get_price_to_buy())\n",
      "        elif macd_bb_signal == MACDBBV1.Signal.SHORT:\n",
      "            # Place a sell order\n",
      "            self.place_order(self.trading_pair, OrderType.LIMIT, TradeType.SELL, self.order_amount, self.get_price_to_sell())\n",
      "\n",
      "    def get_price_to_buy(self):\n",
      "        # Implement logic to determine the buy price, e.g., last trade price, order book analysis, etc.\n",
      "        pass\n",
      "\n",
      "    def get_price_to_sell(self):\n",
      "        # Implement logic to determine the sell price, e.g., last trade price, order book analysis, etc.\n",
      "        pass\n",
      "\n",
      "    def place_order(self, trading_pair, order_type, trade_type, amount, price):\n",
      "        # Implement order placement logic\n",
      "        pass\n",
      "\n",
      "# Note: The methods get_price_to_buy, get_price_to_sell, and place_order are placeholders and need to be implemented.\n"
     ]
    }
   ],
   "source": [
    "print(result[\"code\"])"
   ],
   "metadata": {
    "collapsed": false,
    "ExecuteTime": {
     "end_time": "2023-11-28T17:20:32.802656Z",
     "start_time": "2023-11-28T17:20:32.798767Z"
    }
   }
  }
 ],
 "metadata": {
  "kernelspec": {
   "display_name": "Python 3",
   "language": "python",
   "name": "python3"
  },
  "language_info": {
   "codemirror_mode": {
    "name": "ipython",
    "version": 2
   },
   "file_extension": ".py",
   "mimetype": "text/x-python",
   "name": "python",
   "nbconvert_exporter": "python",
   "pygments_lexer": "ipython2",
   "version": "2.7.6"
  }
 },
 "nbformat": 4,
 "nbformat_minor": 0
}
