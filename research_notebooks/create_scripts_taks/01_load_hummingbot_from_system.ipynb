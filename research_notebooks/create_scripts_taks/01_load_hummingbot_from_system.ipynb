{
 "cells": [
  {
   "cell_type": "markdown",
   "source": [
    "## Loading Hummingbot\n",
    "\n",
    "We are going to use a Generic Loader and get the files from the scripts folder of the Hummingbot repository.\n",
    "Also, we are using a LanguageParser to parse the files as Python code."
   ],
   "metadata": {
    "collapsed": false
   }
  },
  {
   "cell_type": "code",
   "execution_count": 69,
   "metadata": {
    "collapsed": true,
    "ExecuteTime": {
     "end_time": "2023-11-14T23:12:05.670669Z",
     "start_time": "2023-11-14T23:12:05.663994Z"
    }
   },
   "outputs": [],
   "source": [
    "import os\n",
    "import CONFIG\n",
    "\n",
    "os.environ[\"OPENAI_API_KEY\"] = CONFIG.OPENAI_API_KEY"
   ]
  },
  {
   "cell_type": "code",
   "execution_count": 70,
   "outputs": [],
   "source": [
    "from langchain.text_splitter import Language, RecursiveCharacterTextSplitter\n",
    "from langchain.document_loaders.parsers import LanguageParser\n",
    "from langchain.document_loaders.generic import GenericLoader\n",
    "\n",
    "repo_path = \"/Users/dardonacci/Documents/work/hummingbot/scripts\""
   ],
   "metadata": {
    "collapsed": false,
    "ExecuteTime": {
     "end_time": "2023-11-14T23:12:05.941981Z",
     "start_time": "2023-11-14T23:12:05.937215Z"
    }
   }
  },
  {
   "cell_type": "code",
   "execution_count": 71,
   "outputs": [],
   "source": [
    "loader = GenericLoader.from_filesystem(\n",
    "            path=repo_path,\n",
    "            glob=\"**/*.py\",\n",
    "            suffixes=[\".py\"],\n",
    "            parser=LanguageParser(language=Language.PYTHON),\n",
    "        )"
   ],
   "metadata": {
    "collapsed": false,
    "ExecuteTime": {
     "end_time": "2023-11-14T23:12:06.243238Z",
     "start_time": "2023-11-14T23:12:06.238489Z"
    }
   }
  },
  {
   "cell_type": "code",
   "execution_count": 72,
   "outputs": [],
   "source": [
    "hummingbot_codebase = loader.load()"
   ],
   "metadata": {
    "collapsed": false,
    "ExecuteTime": {
     "end_time": "2023-11-14T23:12:06.860822Z",
     "start_time": "2023-11-14T23:12:06.731551Z"
    }
   }
  },
  {
   "cell_type": "code",
   "execution_count": 73,
   "outputs": [
    {
     "data": {
      "text/plain": "108"
     },
     "execution_count": 73,
     "metadata": {},
     "output_type": "execute_result"
    }
   ],
   "source": [
    "len(hummingbot_codebase)"
   ],
   "metadata": {
    "collapsed": false,
    "ExecuteTime": {
     "end_time": "2023-11-14T23:12:08.057915Z",
     "start_time": "2023-11-14T23:12:08.052502Z"
    }
   }
  },
  {
   "cell_type": "code",
   "execution_count": 74,
   "outputs": [
    {
     "data": {
      "text/plain": "52"
     },
     "execution_count": 74,
     "metadata": {},
     "output_type": "execute_result"
    }
   ],
   "source": [
    "files = set([doc.metadata[\"source\"] for doc in hummingbot_codebase])\n",
    "content_types = set([doc.metadata[\"content_type\"] for doc in hummingbot_codebase])\n",
    "len(files)"
   ],
   "metadata": {
    "collapsed": false,
    "ExecuteTime": {
     "end_time": "2023-11-14T23:12:08.691891Z",
     "start_time": "2023-11-14T23:12:08.686511Z"
    }
   }
  },
  {
   "cell_type": "code",
   "execution_count": 75,
   "outputs": [
    {
     "data": {
      "text/plain": "{'functions_classes', 'simplified_code'}"
     },
     "execution_count": 75,
     "metadata": {},
     "output_type": "execute_result"
    }
   ],
   "source": [
    "content_types"
   ],
   "metadata": {
    "collapsed": false,
    "ExecuteTime": {
     "end_time": "2023-11-14T23:12:09.709272Z",
     "start_time": "2023-11-14T23:12:09.704180Z"
    }
   }
  },
  {
   "cell_type": "code",
   "execution_count": 76,
   "outputs": [
    {
     "data": {
      "text/plain": "langchain.schema.document.Document"
     },
     "execution_count": 76,
     "metadata": {},
     "output_type": "execute_result"
    }
   ],
   "source": [
    "type(hummingbot_codebase[0])"
   ],
   "metadata": {
    "collapsed": false,
    "ExecuteTime": {
     "end_time": "2023-11-14T23:12:17.142206Z",
     "start_time": "2023-11-14T23:12:17.138083Z"
    }
   }
  },
  {
   "cell_type": "code",
   "execution_count": 16,
   "outputs": [
    {
     "name": "stdout",
     "output_type": "stream",
     "text": [
      "('class MarketMakingDmanComposed(ScriptStrategyBase):\\n'\n",
      " '    trading_pairs = [\"XRP-USDT\"]\\n'\n",
      " '    position_side_by_trading_pair = {\\n'\n",
      " '        \"XRP-USDT\": TradeType.SELL,\\n'\n",
      " '    }\\n'\n",
      " '    leverage = 10\\n'\n",
      " '    triple_barrier_conf = TripleBarrierConf(\\n'\n",
      " '        stop_loss=Decimal(\"0.01\"), take_profit=Decimal(\"0.03\"),\\n'\n",
      " '        time_limit=60 * 60 * 6,\\n'\n",
      " '        trailing_stop_activation_price_delta=Decimal(\"0.008\"),\\n'\n",
      " '        trailing_stop_trailing_delta=Decimal(\"0.004\"),\\n'\n",
      " '        open_order_type=OrderType.MARKET\\n'\n",
      " '    )\\n'\n",
      " '\\n'\n",
      " '    order_levels = [\\n'\n",
      " '        OrderLevel(level=0, side=TradeType.BUY, '\n",
      " 'order_amount_usd=Decimal(\"20\"), order_refresh_time=60 * 5,\\n'\n",
      " '                   cooldown_time=15, '\n",
      " 'triple_barrier_conf=triple_barrier_conf),\\n'\n",
      " '        OrderLevel(level=0, side=TradeType.SELL, '\n",
      " 'order_amount_usd=Decimal(\"20\"), order_refresh_time=60 * 5,\\n'\n",
      " '                   cooldown_time=15, '\n",
      " 'triple_barrier_conf=triple_barrier_conf),\\n'\n",
      " '    ]\\n'\n",
      " '    controllers = {}\\n'\n",
      " '    markets = {}\\n'\n",
      " '    executor_handlers = {}\\n'\n",
      " '\\n'\n",
      " '    for trading_pair in trading_pairs:\\n'\n",
      " '        config = CarlitoTFV1Config(\\n'\n",
      " '            exchange=\"binance_perpetual\",\\n'\n",
      " '            trading_pair=trading_pair,\\n'\n",
      " '            order_levels=order_levels,\\n'\n",
      " '            candles_config=[\\n'\n",
      " '                CandlesConfig(connector=\"binance_perpetual\", '\n",
      " 'trading_pair=trading_pair, interval=\"3m\", max_records=100),\\n'\n",
      " '            ],\\n'\n",
      " '            leverage=leverage,\\n'\n",
      " '            sma_fast=5,\\n'\n",
      " '            sma_slow=10,\\n'\n",
      " '            '\n",
      " 'position_side_allowed=position_side_by_trading_pair[trading_pair],\\n'\n",
      " '        )\\n'\n",
      " '        controller = CarlitoTFV1(config=config)\\n'\n",
      " '        markets = controller.update_strategy_markets_dict(markets)\\n'\n",
      " '        controllers[trading_pair] = controller\\n'\n",
      " '\\n'\n",
      " '    def __init__(self, connectors: Dict[str, ConnectorBase]):\\n'\n",
      " '        super().__init__(connectors)\\n'\n",
      " '        for trading_pair, controller in self.controllers.items():\\n'\n",
      " '            self.executor_handlers[trading_pair] = '\n",
      " 'DirectionalTradingExecutorHandler(strategy=self, controller=controller)\\n'\n",
      " '\\n'\n",
      " '    def on_stop(self):\\n'\n",
      " '        for executor_handler in self.executor_handlers.values():\\n'\n",
      " '            executor_handler.stop()\\n'\n",
      " '\\n'\n",
      " '    def on_tick(self):\\n'\n",
      " '        \"\"\"\\n'\n",
      " '        This shows you how you can start meta controllers. You can run more '\n",
      " 'than one at the same time and based on the\\n'\n",
      " '        market conditions, you can orchestrate from this script when to stop '\n",
      " 'or start them.\\n'\n",
      " '        \"\"\"\\n'\n",
      " '        for executor_handler in self.executor_handlers.values():\\n'\n",
      " '            if executor_handler.status == '\n",
      " 'ExecutorHandlerStatus.NOT_STARTED:\\n'\n",
      " '                executor_handler.start()\\n'\n",
      " '\\n'\n",
      " '    def format_status(self) -> str:\\n'\n",
      " '        if not self.ready_to_trade:\\n'\n",
      " '            return \"Market connectors are not ready.\"\\n'\n",
      " '        lines = []\\n'\n",
      " '        for trading_pair, executor_handler in '\n",
      " 'self.executor_handlers.items():\\n'\n",
      " '            if executor_handler.controller.all_candles_ready:\\n'\n",
      " '                lines.extend(\\n'\n",
      " '                    [f\"Strategy: '\n",
      " '{executor_handler.controller.config.strategy_name} | Trading Pair: '\n",
      " '{trading_pair}\",\\n'\n",
      " '                     executor_handler.to_format_status()])\\n'\n",
      " '        return \"\\\\n\".join(lines)')\n"
     ]
    }
   ],
   "source": [
    "from pprint import pprint\n",
    "\n",
    "pprint(hummingbot_codebase[0].page_content)"
   ],
   "metadata": {
    "collapsed": false,
    "ExecuteTime": {
     "end_time": "2023-11-14T22:51:17.854331Z",
     "start_time": "2023-11-14T22:51:17.849391Z"
    }
   }
  },
  {
   "cell_type": "code",
   "execution_count": 52,
   "outputs": [
    {
     "data": {
      "text/plain": "{'source': '/Users/dardonacci/Documents/work/hummingbot/scripts/carlito_tf_v1_multiple_pairs.py',\n 'content_type': 'functions_classes',\n 'language': <Language.PYTHON: 'python'>}"
     },
     "execution_count": 52,
     "metadata": {},
     "output_type": "execute_result"
    }
   ],
   "source": [
    "hummingbot_codebase[0].metadata"
   ],
   "metadata": {
    "collapsed": false,
    "ExecuteTime": {
     "end_time": "2023-11-14T23:02:34.441850Z",
     "start_time": "2023-11-14T23:02:34.437094Z"
    }
   }
  },
  {
   "cell_type": "markdown",
   "source": [
    "# Splitting one document\n",
    "\n",
    "Now we are going to split the documents using the RecursiveCharacterTextSplitter from language Python and compare the document before and after the splitting."
   ],
   "metadata": {
    "collapsed": false
   }
  },
  {
   "cell_type": "code",
   "execution_count": 53,
   "outputs": [],
   "source": [
    "chunk_size = 1000\n",
    "chunk_overlap = 100\n",
    "python_splitter = RecursiveCharacterTextSplitter.from_language(\n",
    "    language=Language.PYTHON, chunk_size=chunk_size, chunk_overlap=chunk_overlap\n",
    ")"
   ],
   "metadata": {
    "collapsed": false,
    "ExecuteTime": {
     "end_time": "2023-11-14T23:02:45.207804Z",
     "start_time": "2023-11-14T23:02:45.201226Z"
    }
   }
  },
  {
   "cell_type": "code",
   "execution_count": 55,
   "outputs": [],
   "source": [
    "doc_1_splitted = python_splitter.split_documents([hummingbot_codebase[0]])"
   ],
   "metadata": {
    "collapsed": false,
    "ExecuteTime": {
     "end_time": "2023-11-14T23:03:04.046636Z",
     "start_time": "2023-11-14T23:03:04.041373Z"
    }
   }
  },
  {
   "cell_type": "code",
   "execution_count": 56,
   "outputs": [
    {
     "data": {
      "text/plain": "4"
     },
     "execution_count": 56,
     "metadata": {},
     "output_type": "execute_result"
    }
   ],
   "source": [
    "len(doc_1_splitted)"
   ],
   "metadata": {
    "collapsed": false,
    "ExecuteTime": {
     "end_time": "2023-11-14T23:03:04.601690Z",
     "start_time": "2023-11-14T23:03:04.597477Z"
    }
   }
  },
  {
   "cell_type": "code",
   "execution_count": 57,
   "outputs": [
    {
     "name": "stdout",
     "output_type": "stream",
     "text": [
      "('class MarketMakingDmanComposed(ScriptStrategyBase):\\n'\n",
      " '    trading_pairs = [\"XRP-USDT\"]\\n'\n",
      " '    position_side_by_trading_pair = {\\n'\n",
      " '        \"XRP-USDT\": TradeType.SELL,\\n'\n",
      " '    }\\n'\n",
      " '    leverage = 10\\n'\n",
      " '    triple_barrier_conf = TripleBarrierConf(\\n'\n",
      " '        stop_loss=Decimal(\"0.01\"), take_profit=Decimal(\"0.03\"),\\n'\n",
      " '        time_limit=60 * 60 * 6,\\n'\n",
      " '        trailing_stop_activation_price_delta=Decimal(\"0.008\"),\\n'\n",
      " '        trailing_stop_trailing_delta=Decimal(\"0.004\"),\\n'\n",
      " '        open_order_type=OrderType.MARKET\\n'\n",
      " '    )\\n'\n",
      " '\\n'\n",
      " '    order_levels = [\\n'\n",
      " '        OrderLevel(level=0, side=TradeType.BUY, '\n",
      " 'order_amount_usd=Decimal(\"20\"), order_refresh_time=60 * 5,\\n'\n",
      " '                   cooldown_time=15, '\n",
      " 'triple_barrier_conf=triple_barrier_conf),\\n'\n",
      " '        OrderLevel(level=0, side=TradeType.SELL, '\n",
      " 'order_amount_usd=Decimal(\"20\"), order_refresh_time=60 * 5,\\n'\n",
      " '                   cooldown_time=15, '\n",
      " 'triple_barrier_conf=triple_barrier_conf),\\n'\n",
      " '    ]\\n'\n",
      " '    controllers = {}\\n'\n",
      " '    markets = {}\\n'\n",
      " '    executor_handlers = {}')\n"
     ]
    }
   ],
   "source": [
    "pprint(doc_1_splitted[0].page_content)"
   ],
   "metadata": {
    "collapsed": false,
    "ExecuteTime": {
     "end_time": "2023-11-14T23:03:05.020184Z",
     "start_time": "2023-11-14T23:03:05.015073Z"
    }
   }
  },
  {
   "cell_type": "code",
   "execution_count": 58,
   "outputs": [
    {
     "name": "stdout",
     "output_type": "stream",
     "text": [
      "('for trading_pair in trading_pairs:\\n'\n",
      " '        config = CarlitoTFV1Config(\\n'\n",
      " '            exchange=\"binance_perpetual\",\\n'\n",
      " '            trading_pair=trading_pair,\\n'\n",
      " '            order_levels=order_levels,\\n'\n",
      " '            candles_config=[\\n'\n",
      " '                CandlesConfig(connector=\"binance_perpetual\", '\n",
      " 'trading_pair=trading_pair, interval=\"3m\", max_records=100),\\n'\n",
      " '            ],\\n'\n",
      " '            leverage=leverage,\\n'\n",
      " '            sma_fast=5,\\n'\n",
      " '            sma_slow=10,\\n'\n",
      " '            '\n",
      " 'position_side_allowed=position_side_by_trading_pair[trading_pair],\\n'\n",
      " '        )\\n'\n",
      " '        controller = CarlitoTFV1(config=config)\\n'\n",
      " '        markets = controller.update_strategy_markets_dict(markets)\\n'\n",
      " '        controllers[trading_pair] = controller\\n'\n",
      " '\\n'\n",
      " '    def __init__(self, connectors: Dict[str, ConnectorBase]):\\n'\n",
      " '        super().__init__(connectors)\\n'\n",
      " '        for trading_pair, controller in self.controllers.items():\\n'\n",
      " '            self.executor_handlers[trading_pair] = '\n",
      " 'DirectionalTradingExecutorHandler(strategy=self, controller=controller)')\n"
     ]
    }
   ],
   "source": [
    "pprint(doc_1_splitted[1].page_content)"
   ],
   "metadata": {
    "collapsed": false,
    "ExecuteTime": {
     "end_time": "2023-11-14T23:03:05.784679Z",
     "start_time": "2023-11-14T23:03:05.779049Z"
    }
   }
  },
  {
   "cell_type": "code",
   "execution_count": 59,
   "outputs": [
    {
     "name": "stdout",
     "output_type": "stream",
     "text": [
      "('def on_stop(self):\\n'\n",
      " '        for executor_handler in self.executor_handlers.values():\\n'\n",
      " '            executor_handler.stop()\\n'\n",
      " '\\n'\n",
      " '    def on_tick(self):\\n'\n",
      " '        \"\"\"\\n'\n",
      " '        This shows you how you can start meta controllers. You can run more '\n",
      " 'than one at the same time and based on the\\n'\n",
      " '        market conditions, you can orchestrate from this script when to stop '\n",
      " 'or start them.\\n'\n",
      " '        \"\"\"\\n'\n",
      " '        for executor_handler in self.executor_handlers.values():\\n'\n",
      " '            if executor_handler.status == '\n",
      " 'ExecutorHandlerStatus.NOT_STARTED:\\n'\n",
      " '                executor_handler.start()')\n"
     ]
    }
   ],
   "source": [
    "pprint(doc_1_splitted[2].page_content)"
   ],
   "metadata": {
    "collapsed": false,
    "ExecuteTime": {
     "end_time": "2023-11-14T23:03:06.807953Z",
     "start_time": "2023-11-14T23:03:06.802227Z"
    }
   }
  },
  {
   "cell_type": "code",
   "execution_count": 62,
   "outputs": [
    {
     "name": "stdout",
     "output_type": "stream",
     "text": [
      "('def format_status(self) -> str:\\n'\n",
      " '        if not self.ready_to_trade:\\n'\n",
      " '            return \"Market connectors are not ready.\"\\n'\n",
      " '        lines = []\\n'\n",
      " '        for trading_pair, executor_handler in '\n",
      " 'self.executor_handlers.items():\\n'\n",
      " '            if executor_handler.controller.all_candles_ready:\\n'\n",
      " '                lines.extend(\\n'\n",
      " '                    [f\"Strategy: '\n",
      " '{executor_handler.controller.config.strategy_name} | Trading Pair: '\n",
      " '{trading_pair}\",\\n'\n",
      " '                     executor_handler.to_format_status()])\\n'\n",
      " '        return \"\\\\n\".join(lines)')\n"
     ]
    }
   ],
   "source": [
    "pprint(doc_1_splitted[3].page_content)"
   ],
   "metadata": {
    "collapsed": false,
    "ExecuteTime": {
     "end_time": "2023-11-14T23:03:25.975633Z",
     "start_time": "2023-11-14T23:03:25.971799Z"
    }
   }
  },
  {
   "cell_type": "markdown",
   "source": [
    "# Splitting all the documents\n",
    "\n",
    "We are going to apply the split all documents and see how many documents we get."
   ],
   "metadata": {
    "collapsed": false
   }
  },
  {
   "cell_type": "code",
   "execution_count": 28,
   "outputs": [],
   "source": [
    "all_documents = python_splitter.split_documents(hummingbot_codebase)"
   ],
   "metadata": {
    "collapsed": false,
    "ExecuteTime": {
     "end_time": "2023-11-14T22:54:35.411429Z",
     "start_time": "2023-11-14T22:54:35.408261Z"
    }
   }
  },
  {
   "cell_type": "code",
   "execution_count": 29,
   "outputs": [
    {
     "data": {
      "text/plain": "520"
     },
     "execution_count": 29,
     "metadata": {},
     "output_type": "execute_result"
    }
   ],
   "source": [
    "len(all_documents)"
   ],
   "metadata": {
    "collapsed": false,
    "ExecuteTime": {
     "end_time": "2023-11-14T22:54:38.676486Z",
     "start_time": "2023-11-14T22:54:38.671666Z"
    }
   }
  },
  {
   "cell_type": "code",
   "execution_count": 30,
   "outputs": [
    {
     "name": "stdout",
     "output_type": "stream",
     "text": [
      "('class MarketMakingDmanComposed(ScriptStrategyBase):\\n'\n",
      " '    trading_pairs = [\"XRP-USDT\"]\\n'\n",
      " '    position_side_by_trading_pair = {\\n'\n",
      " '        \"XRP-USDT\": TradeType.SELL,\\n'\n",
      " '    }\\n'\n",
      " '    leverage = 10\\n'\n",
      " '    triple_barrier_conf = TripleBarrierConf(\\n'\n",
      " '        stop_loss=Decimal(\"0.01\"), take_profit=Decimal(\"0.03\"),\\n'\n",
      " '        time_limit=60 * 60 * 6,\\n'\n",
      " '        trailing_stop_activation_price_delta=Decimal(\"0.008\"),\\n'\n",
      " '        trailing_stop_trailing_delta=Decimal(\"0.004\"),\\n'\n",
      " '        open_order_type=OrderType.MARKET\\n'\n",
      " '    )\\n'\n",
      " '\\n'\n",
      " '    order_levels = [\\n'\n",
      " '        OrderLevel(level=0, side=TradeType.BUY, '\n",
      " 'order_amount_usd=Decimal(\"20\"), order_refresh_time=60 * 5,\\n'\n",
      " '                   cooldown_time=15, '\n",
      " 'triple_barrier_conf=triple_barrier_conf),\\n'\n",
      " '        OrderLevel(level=0, side=TradeType.SELL, '\n",
      " 'order_amount_usd=Decimal(\"20\"), order_refresh_time=60 * 5,\\n'\n",
      " '                   cooldown_time=15, '\n",
      " 'triple_barrier_conf=triple_barrier_conf),\\n'\n",
      " '    ]\\n'\n",
      " '    controllers = {}\\n'\n",
      " '    markets = {}\\n'\n",
      " '    executor_handlers = {}')\n"
     ]
    }
   ],
   "source": [
    "pprint(all_documents[0].page_content)"
   ],
   "metadata": {
    "collapsed": false,
    "ExecuteTime": {
     "end_time": "2023-11-14T22:54:44.500025Z",
     "start_time": "2023-11-14T22:54:44.495214Z"
    }
   }
  },
  {
   "cell_type": "code",
   "execution_count": 31,
   "outputs": [
    {
     "name": "stdout",
     "output_type": "stream",
     "text": [
      "('for trading_pair in trading_pairs:\\n'\n",
      " '        config = CarlitoTFV1Config(\\n'\n",
      " '            exchange=\"binance_perpetual\",\\n'\n",
      " '            trading_pair=trading_pair,\\n'\n",
      " '            order_levels=order_levels,\\n'\n",
      " '            candles_config=[\\n'\n",
      " '                CandlesConfig(connector=\"binance_perpetual\", '\n",
      " 'trading_pair=trading_pair, interval=\"3m\", max_records=100),\\n'\n",
      " '            ],\\n'\n",
      " '            leverage=leverage,\\n'\n",
      " '            sma_fast=5,\\n'\n",
      " '            sma_slow=10,\\n'\n",
      " '            '\n",
      " 'position_side_allowed=position_side_by_trading_pair[trading_pair],\\n'\n",
      " '        )\\n'\n",
      " '        controller = CarlitoTFV1(config=config)\\n'\n",
      " '        markets = controller.update_strategy_markets_dict(markets)\\n'\n",
      " '        controllers[trading_pair] = controller\\n'\n",
      " '\\n'\n",
      " '    def __init__(self, connectors: Dict[str, ConnectorBase]):\\n'\n",
      " '        super().__init__(connectors)\\n'\n",
      " '        for trading_pair, controller in self.controllers.items():\\n'\n",
      " '            self.executor_handlers[trading_pair] = '\n",
      " 'DirectionalTradingExecutorHandler(strategy=self, controller=controller)')\n"
     ]
    }
   ],
   "source": [
    "pprint(all_documents[1].page_content)"
   ],
   "metadata": {
    "collapsed": false,
    "ExecuteTime": {
     "end_time": "2023-11-14T22:54:48.042767Z",
     "start_time": "2023-11-14T22:54:48.038225Z"
    }
   }
  },
  {
   "cell_type": "code",
   "execution_count": 32,
   "outputs": [
    {
     "name": "stdout",
     "output_type": "stream",
     "text": [
      "('def on_stop(self):\\n'\n",
      " '        for executor_handler in self.executor_handlers.values():\\n'\n",
      " '            executor_handler.stop()\\n'\n",
      " '\\n'\n",
      " '    def on_tick(self):\\n'\n",
      " '        \"\"\"\\n'\n",
      " '        This shows you how you can start meta controllers. You can run more '\n",
      " 'than one at the same time and based on the\\n'\n",
      " '        market conditions, you can orchestrate from this script when to stop '\n",
      " 'or start them.\\n'\n",
      " '        \"\"\"\\n'\n",
      " '        for executor_handler in self.executor_handlers.values():\\n'\n",
      " '            if executor_handler.status == '\n",
      " 'ExecutorHandlerStatus.NOT_STARTED:\\n'\n",
      " '                executor_handler.start()')\n"
     ]
    }
   ],
   "source": [
    "pprint(all_documents[2].page_content)"
   ],
   "metadata": {
    "collapsed": false,
    "ExecuteTime": {
     "end_time": "2023-11-14T22:54:51.771057Z",
     "start_time": "2023-11-14T22:54:51.767187Z"
    }
   }
  },
  {
   "cell_type": "code",
   "execution_count": 33,
   "outputs": [
    {
     "name": "stdout",
     "output_type": "stream",
     "text": [
      "('def format_status(self) -> str:\\n'\n",
      " '        if not self.ready_to_trade:\\n'\n",
      " '            return \"Market connectors are not ready.\"\\n'\n",
      " '        lines = []\\n'\n",
      " '        for trading_pair, executor_handler in '\n",
      " 'self.executor_handlers.items():\\n'\n",
      " '            if executor_handler.controller.all_candles_ready:\\n'\n",
      " '                lines.extend(\\n'\n",
      " '                    [f\"Strategy: '\n",
      " '{executor_handler.controller.config.strategy_name} | Trading Pair: '\n",
      " '{trading_pair}\",\\n'\n",
      " '                     executor_handler.to_format_status()])\\n'\n",
      " '        return \"\\\\n\".join(lines)')\n"
     ]
    }
   ],
   "source": [
    "pprint(all_documents[3].page_content)"
   ],
   "metadata": {
    "collapsed": false,
    "ExecuteTime": {
     "end_time": "2023-11-14T22:54:55.214875Z",
     "start_time": "2023-11-14T22:54:55.210571Z"
    }
   }
  },
  {
   "cell_type": "markdown",
   "source": [
    "# Testing different values to split the code"
   ],
   "metadata": {
    "collapsed": false
   }
  },
  {
   "cell_type": "markdown",
   "source": [
    "## Same Chunk Size and different overlap"
   ],
   "metadata": {
    "collapsed": false
   }
  },
  {
   "cell_type": "code",
   "execution_count": 85,
   "outputs": [],
   "source": [
    "splitter_1 = RecursiveCharacterTextSplitter.from_language(\n",
    "    language=Language.PYTHON, chunk_size=1000, chunk_overlap=50\n",
    ")\n",
    "splitter_2 = RecursiveCharacterTextSplitter.from_language(\n",
    "    language=Language.PYTHON, chunk_size=1000, chunk_overlap=100\n",
    ")\n",
    "splitter_3 = RecursiveCharacterTextSplitter.from_language(\n",
    "    language=Language.PYTHON, chunk_size=1000, chunk_overlap=300,\n",
    ")"
   ],
   "metadata": {
    "collapsed": false,
    "ExecuteTime": {
     "end_time": "2023-11-14T23:17:23.530656Z",
     "start_time": "2023-11-14T23:17:23.526253Z"
    }
   }
  },
  {
   "cell_type": "code",
   "execution_count": 86,
   "outputs": [],
   "source": [
    "all_documents_1 = splitter_1.split_documents(hummingbot_codebase)\n",
    "all_documents_2 = splitter_2.split_documents(hummingbot_codebase)\n",
    "all_documents_3 = splitter_3.split_documents(hummingbot_codebase)"
   ],
   "metadata": {
    "collapsed": false,
    "ExecuteTime": {
     "end_time": "2023-11-14T23:17:23.895812Z",
     "start_time": "2023-11-14T23:17:23.894023Z"
    }
   }
  },
  {
   "cell_type": "code",
   "execution_count": 87,
   "outputs": [
    {
     "name": "stdout",
     "output_type": "stream",
     "text": [
      "Splitter 1: 519\n",
      "Splitter 2: 520\n",
      "Splitter 3: 541\n"
     ]
    }
   ],
   "source": [
    "print(f\"Splitter 1: {len(all_documents_1)}\"\n",
    "      f\"\\nSplitter 2: {len(all_documents_2)}\"\n",
    "      f\"\\nSplitter 3: {len(all_documents_3)}\")"
   ],
   "metadata": {
    "collapsed": false,
    "ExecuteTime": {
     "end_time": "2023-11-14T23:17:24.193852Z",
     "start_time": "2023-11-14T23:17:24.186457Z"
    }
   }
  },
  {
   "cell_type": "markdown",
   "source": [
    "## Same Overlap and different chunk size"
   ],
   "metadata": {
    "collapsed": false
   }
  },
  {
   "cell_type": "code",
   "execution_count": 89,
   "outputs": [],
   "source": [
    "splitter_1 = RecursiveCharacterTextSplitter.from_language(\n",
    "    language=Language.PYTHON, chunk_size=1000, chunk_overlap=200\n",
    ")\n",
    "splitter_2 = RecursiveCharacterTextSplitter.from_language(\n",
    "    language=Language.PYTHON, chunk_size=2000, chunk_overlap=200\n",
    ")\n",
    "splitter_3 = RecursiveCharacterTextSplitter.from_language(\n",
    "    language=Language.PYTHON, chunk_size=5000, chunk_overlap=200,\n",
    ")"
   ],
   "metadata": {
    "collapsed": false,
    "ExecuteTime": {
     "end_time": "2023-11-14T23:18:08.595146Z",
     "start_time": "2023-11-14T23:18:08.583215Z"
    }
   }
  },
  {
   "cell_type": "code",
   "execution_count": 91,
   "outputs": [],
   "source": [
    "all_documents_1 = splitter_1.split_documents(hummingbot_codebase)\n",
    "all_documents_2 = splitter_2.split_documents(hummingbot_codebase)\n",
    "all_documents_3 = splitter_3.split_documents(hummingbot_codebase)"
   ],
   "metadata": {
    "collapsed": false,
    "ExecuteTime": {
     "end_time": "2023-11-14T23:18:23.206341Z",
     "start_time": "2023-11-14T23:18:23.190581Z"
    }
   }
  },
  {
   "cell_type": "code",
   "execution_count": 92,
   "outputs": [
    {
     "name": "stdout",
     "output_type": "stream",
     "text": [
      "Splitter 1: 530\n",
      "Splitter 2: 277\n",
      "Splitter 3: 150\n"
     ]
    }
   ],
   "source": [
    "print(f\"Splitter 1: {len(all_documents_1)}\"\n",
    "      f\"\\nSplitter 2: {len(all_documents_2)}\"\n",
    "      f\"\\nSplitter 3: {len(all_documents_3)}\")"
   ],
   "metadata": {
    "collapsed": false,
    "ExecuteTime": {
     "end_time": "2023-11-14T23:18:26.563340Z",
     "start_time": "2023-11-14T23:18:26.555501Z"
    }
   }
  },
  {
   "cell_type": "markdown",
   "source": [
    "# Conclusion\n",
    "\n",
    "We can see that the loader with the parser of Python is working as expected, for each file we have a simplified code version and the function classes are separated from the rest of the code.\n",
    "Also, we can see that the splitter is working as expected, we can split the code in different ways and we can see that the number of files generated is different.\n",
    "\n",
    "Techniques conclusion:\n",
    "* The original load generates 108 files.\n",
    "* The splitter with chunk_size=1000 and chunk_overlap=100 generates 520 files.\n",
    "* Changing the overlap does not affect so much the quantity of docs as the chunk size\n",
    "* With chunk size of 2000 we get 277 files and I think that they are well distributed"
   ],
   "metadata": {
    "collapsed": false
   }
  },
  {
   "cell_type": "code",
   "execution_count": 96,
   "outputs": [
    {
     "name": "stdout",
     "output_type": "stream",
     "text": [
      "('class MarketMakingDmanComposed(ScriptStrategyBase):\\n'\n",
      " '    trading_pairs = [\"XRP-USDT\"]\\n'\n",
      " '    position_side_by_trading_pair = {\\n'\n",
      " '        \"XRP-USDT\": TradeType.SELL,\\n'\n",
      " '    }\\n'\n",
      " '    leverage = 10\\n'\n",
      " '    triple_barrier_conf = TripleBarrierConf(\\n'\n",
      " '        stop_loss=Decimal(\"0.01\"), take_profit=Decimal(\"0.03\"),\\n'\n",
      " '        time_limit=60 * 60 * 6,\\n'\n",
      " '        trailing_stop_activation_price_delta=Decimal(\"0.008\"),\\n'\n",
      " '        trailing_stop_trailing_delta=Decimal(\"0.004\"),\\n'\n",
      " '        open_order_type=OrderType.MARKET\\n'\n",
      " '    )\\n'\n",
      " '\\n'\n",
      " '    order_levels = [\\n'\n",
      " '        OrderLevel(level=0, side=TradeType.BUY, '\n",
      " 'order_amount_usd=Decimal(\"20\"), order_refresh_time=60 * 5,\\n'\n",
      " '                   cooldown_time=15, '\n",
      " 'triple_barrier_conf=triple_barrier_conf),\\n'\n",
      " '        OrderLevel(level=0, side=TradeType.SELL, '\n",
      " 'order_amount_usd=Decimal(\"20\"), order_refresh_time=60 * 5,\\n'\n",
      " '                   cooldown_time=15, '\n",
      " 'triple_barrier_conf=triple_barrier_conf),\\n'\n",
      " '    ]\\n'\n",
      " '    controllers = {}\\n'\n",
      " '    markets = {}\\n'\n",
      " '    executor_handlers = {}\\n'\n",
      " '\\n'\n",
      " '    for trading_pair in trading_pairs:\\n'\n",
      " '        config = CarlitoTFV1Config(\\n'\n",
      " '            exchange=\"binance_perpetual\",\\n'\n",
      " '            trading_pair=trading_pair,\\n'\n",
      " '            order_levels=order_levels,\\n'\n",
      " '            candles_config=[\\n'\n",
      " '                CandlesConfig(connector=\"binance_perpetual\", '\n",
      " 'trading_pair=trading_pair, interval=\"3m\", max_records=100),\\n'\n",
      " '            ],\\n'\n",
      " '            leverage=leverage,\\n'\n",
      " '            sma_fast=5,\\n'\n",
      " '            sma_slow=10,\\n'\n",
      " '            '\n",
      " 'position_side_allowed=position_side_by_trading_pair[trading_pair],\\n'\n",
      " '        )\\n'\n",
      " '        controller = CarlitoTFV1(config=config)\\n'\n",
      " '        markets = controller.update_strategy_markets_dict(markets)\\n'\n",
      " '        controllers[trading_pair] = controller\\n'\n",
      " '\\n'\n",
      " '    def __init__(self, connectors: Dict[str, ConnectorBase]):\\n'\n",
      " '        super().__init__(connectors)\\n'\n",
      " '        for trading_pair, controller in self.controllers.items():\\n'\n",
      " '            self.executor_handlers[trading_pair] = '\n",
      " 'DirectionalTradingExecutorHandler(strategy=self, controller=controller)')\n"
     ]
    }
   ],
   "source": [
    "pprint(all_documents_2[0].page_content)"
   ],
   "metadata": {
    "collapsed": false,
    "ExecuteTime": {
     "end_time": "2023-11-15T00:19:09.878507Z",
     "start_time": "2023-11-15T00:19:09.875837Z"
    }
   }
  },
  {
   "cell_type": "markdown",
   "source": [],
   "metadata": {
    "collapsed": false
   }
  }
 ],
 "metadata": {
  "kernelspec": {
   "display_name": "Python 3",
   "language": "python",
   "name": "python3"
  },
  "language_info": {
   "codemirror_mode": {
    "name": "ipython",
    "version": 2
   },
   "file_extension": ".py",
   "mimetype": "text/x-python",
   "name": "python",
   "nbconvert_exporter": "python",
   "pygments_lexer": "ipython2",
   "version": "2.7.6"
  }
 },
 "nbformat": 4,
 "nbformat_minor": 0
}
