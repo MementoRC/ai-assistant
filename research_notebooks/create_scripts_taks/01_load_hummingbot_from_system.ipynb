{
 "cells": [
  {
   "cell_type": "markdown",
   "source": [
    "## Loading Hummingbot\n",
    "\n",
    "We are going to use a Generic Loader and get the files from the scripts folder of the Hummingbot repository.\n",
    "Also, we are using a LanguageParser to parse the files as Python code."
   ],
   "metadata": {
    "collapsed": false
   }
  },
  {
   "cell_type": "code",
   "execution_count": null,
   "metadata": {
    "collapsed": true
   },
   "outputs": [],
   "source": [
    "import os\n",
    "from dotenv import load_dotenv\n",
    "\n",
    "load_dotenv()\n",
    "\n",
    "os.environ[\"OPENAI_API_KEY\"]  # you should see the api key if the .env file is loaded correctly"
   ]
  },
  {
   "cell_type": "code",
   "execution_count": 4,
   "outputs": [],
   "source": [
    "from langchain.text_splitter import Language, RecursiveCharacterTextSplitter\n",
    "from langchain.document_loaders.parsers import LanguageParser\n",
    "from langchain.document_loaders.generic import GenericLoader\n",
    "\n",
    "repo_path = \"/Users/dardonacci/Documents/work/hummingbot/scripts\""
   ],
   "metadata": {
    "collapsed": false,
    "ExecuteTime": {
     "end_time": "2023-11-28T17:06:16.441201Z",
     "start_time": "2023-11-28T17:06:16.040160Z"
    }
   }
  },
  {
   "cell_type": "code",
   "execution_count": 5,
   "outputs": [],
   "source": [
    "loader = GenericLoader.from_filesystem(\n",
    "            path=repo_path,\n",
    "            glob=\"**/*.py\",\n",
    "            suffixes=[\".py\"],\n",
    "            parser=LanguageParser(language=Language.PYTHON),\n",
    "        )"
   ],
   "metadata": {
    "collapsed": false,
    "ExecuteTime": {
     "end_time": "2023-11-28T17:06:16.836938Z",
     "start_time": "2023-11-28T17:06:16.832773Z"
    }
   }
  },
  {
   "cell_type": "code",
   "execution_count": 6,
   "outputs": [],
   "source": [
    "hummingbot_codebase = loader.load()"
   ],
   "metadata": {
    "collapsed": false,
    "ExecuteTime": {
     "end_time": "2023-11-28T17:06:19.134884Z",
     "start_time": "2023-11-28T17:06:18.985549Z"
    }
   }
  },
  {
   "cell_type": "code",
   "execution_count": 7,
   "outputs": [
    {
     "data": {
      "text/plain": "112"
     },
     "execution_count": 7,
     "metadata": {},
     "output_type": "execute_result"
    }
   ],
   "source": [
    "len(hummingbot_codebase)"
   ],
   "metadata": {
    "collapsed": false,
    "ExecuteTime": {
     "end_time": "2023-11-28T17:06:20.391242Z",
     "start_time": "2023-11-28T17:06:20.384446Z"
    }
   }
  },
  {
   "cell_type": "code",
   "execution_count": 8,
   "outputs": [
    {
     "data": {
      "text/plain": "54"
     },
     "execution_count": 8,
     "metadata": {},
     "output_type": "execute_result"
    }
   ],
   "source": [
    "files = set([doc.metadata[\"source\"] for doc in hummingbot_codebase])\n",
    "content_types = set([doc.metadata[\"content_type\"] for doc in hummingbot_codebase])\n",
    "len(files)"
   ],
   "metadata": {
    "collapsed": false,
    "ExecuteTime": {
     "end_time": "2023-11-28T17:06:20.824233Z",
     "start_time": "2023-11-28T17:06:20.815807Z"
    }
   }
  },
  {
   "cell_type": "code",
   "execution_count": 9,
   "outputs": [
    {
     "data": {
      "text/plain": "{'functions_classes', 'simplified_code'}"
     },
     "execution_count": 9,
     "metadata": {},
     "output_type": "execute_result"
    }
   ],
   "source": [
    "content_types"
   ],
   "metadata": {
    "collapsed": false,
    "ExecuteTime": {
     "end_time": "2023-11-28T17:06:21.501808Z",
     "start_time": "2023-11-28T17:06:21.497502Z"
    }
   }
  },
  {
   "cell_type": "code",
   "execution_count": 10,
   "outputs": [
    {
     "data": {
      "text/plain": "langchain.schema.document.Document"
     },
     "execution_count": 10,
     "metadata": {},
     "output_type": "execute_result"
    }
   ],
   "source": [
    "type(hummingbot_codebase[0])"
   ],
   "metadata": {
    "collapsed": false,
    "ExecuteTime": {
     "end_time": "2023-11-28T17:06:21.644897Z",
     "start_time": "2023-11-28T17:06:21.640249Z"
    }
   }
  },
  {
   "cell_type": "code",
   "execution_count": 11,
   "outputs": [
    {
     "name": "stdout",
     "output_type": "stream",
     "text": [
      "('class MarketMakingDmanComposed(ScriptStrategyBase):\\n'\n",
      " '    trading_pairs = [\"XRP-USDT\"]\\n'\n",
      " '    position_side_by_trading_pair = {\\n'\n",
      " '        \"XRP-USDT\": TradeType.SELL,\\n'\n",
      " '    }\\n'\n",
      " '    leverage = 10\\n'\n",
      " '    triple_barrier_conf = TripleBarrierConf(\\n'\n",
      " '        stop_loss=Decimal(\"0.01\"), take_profit=Decimal(\"0.03\"),\\n'\n",
      " '        time_limit=60 * 60 * 6,\\n'\n",
      " '        trailing_stop_activation_price_delta=Decimal(\"0.008\"),\\n'\n",
      " '        trailing_stop_trailing_delta=Decimal(\"0.004\"),\\n'\n",
      " '        open_order_type=OrderType.MARKET\\n'\n",
      " '    )\\n'\n",
      " '\\n'\n",
      " '    order_levels = [\\n'\n",
      " '        OrderLevel(level=0, side=TradeType.BUY, '\n",
      " 'order_amount_usd=Decimal(\"20\"), order_refresh_time=60 * 5,\\n'\n",
      " '                   cooldown_time=15, '\n",
      " 'triple_barrier_conf=triple_barrier_conf),\\n'\n",
      " '        OrderLevel(level=0, side=TradeType.SELL, '\n",
      " 'order_amount_usd=Decimal(\"20\"), order_refresh_time=60 * 5,\\n'\n",
      " '                   cooldown_time=15, '\n",
      " 'triple_barrier_conf=triple_barrier_conf),\\n'\n",
      " '    ]\\n'\n",
      " '    controllers = {}\\n'\n",
      " '    markets = {}\\n'\n",
      " '    executor_handlers = {}\\n'\n",
      " '\\n'\n",
      " '    for trading_pair in trading_pairs:\\n'\n",
      " '        config = CarlitoTFV1Config(\\n'\n",
      " '            exchange=\"binance_perpetual\",\\n'\n",
      " '            trading_pair=trading_pair,\\n'\n",
      " '            order_levels=order_levels,\\n'\n",
      " '            candles_config=[\\n'\n",
      " '                CandlesConfig(connector=\"binance_perpetual\", '\n",
      " 'trading_pair=trading_pair, interval=\"3m\", max_records=100),\\n'\n",
      " '            ],\\n'\n",
      " '            leverage=leverage,\\n'\n",
      " '            sma_fast=5,\\n'\n",
      " '            sma_slow=10,\\n'\n",
      " '            '\n",
      " 'position_side_allowed=position_side_by_trading_pair[trading_pair],\\n'\n",
      " '        )\\n'\n",
      " '        controller = CarlitoTFV1(config=config)\\n'\n",
      " '        markets = controller.update_strategy_markets_dict(markets)\\n'\n",
      " '        controllers[trading_pair] = controller\\n'\n",
      " '\\n'\n",
      " '    def __init__(self, connectors: Dict[str, ConnectorBase]):\\n'\n",
      " '        super().__init__(connectors)\\n'\n",
      " '        for trading_pair, controller in self.controllers.items():\\n'\n",
      " '            self.executor_handlers[trading_pair] = '\n",
      " 'DirectionalTradingExecutorHandler(strategy=self, controller=controller)\\n'\n",
      " '\\n'\n",
      " '    def on_stop(self):\\n'\n",
      " '        for executor_handler in self.executor_handlers.values():\\n'\n",
      " '            executor_handler.stop()\\n'\n",
      " '\\n'\n",
      " '    def on_tick(self):\\n'\n",
      " '        \"\"\"\\n'\n",
      " '        This shows you how you can start meta controllers. You can run more '\n",
      " 'than one at the same time and based on the\\n'\n",
      " '        market conditions, you can orchestrate from this script when to stop '\n",
      " 'or start them.\\n'\n",
      " '        \"\"\"\\n'\n",
      " '        for executor_handler in self.executor_handlers.values():\\n'\n",
      " '            if executor_handler.status == '\n",
      " 'ExecutorHandlerStatus.NOT_STARTED:\\n'\n",
      " '                executor_handler.start()\\n'\n",
      " '\\n'\n",
      " '    def format_status(self) -> str:\\n'\n",
      " '        if not self.ready_to_trade:\\n'\n",
      " '            return \"Market connectors are not ready.\"\\n'\n",
      " '        lines = []\\n'\n",
      " '        for trading_pair, executor_handler in '\n",
      " 'self.executor_handlers.items():\\n'\n",
      " '            if executor_handler.controller.all_candles_ready:\\n'\n",
      " '                lines.extend(\\n'\n",
      " '                    [f\"Strategy: '\n",
      " '{executor_handler.controller.config.strategy_name} | Trading Pair: '\n",
      " '{trading_pair}\",\\n'\n",
      " '                     executor_handler.to_format_status()])\\n'\n",
      " '        return \"\\\\n\".join(lines)')\n"
     ]
    }
   ],
   "source": [
    "from pprint import pprint\n",
    "\n",
    "pprint(hummingbot_codebase[0].page_content)"
   ],
   "metadata": {
    "collapsed": false,
    "ExecuteTime": {
     "end_time": "2023-11-28T17:06:21.804206Z",
     "start_time": "2023-11-28T17:06:21.795565Z"
    }
   }
  },
  {
   "cell_type": "code",
   "execution_count": 12,
   "outputs": [
    {
     "data": {
      "text/plain": "{'source': '/Users/dardonacci/Documents/work/hummingbot/scripts/carlito_tf_v1_multiple_pairs.py',\n 'content_type': 'functions_classes',\n 'language': <Language.PYTHON: 'python'>}"
     },
     "execution_count": 12,
     "metadata": {},
     "output_type": "execute_result"
    }
   ],
   "source": [
    "hummingbot_codebase[0].metadata"
   ],
   "metadata": {
    "collapsed": false,
    "ExecuteTime": {
     "end_time": "2023-11-28T17:06:21.948507Z",
     "start_time": "2023-11-28T17:06:21.943139Z"
    }
   }
  },
  {
   "cell_type": "markdown",
   "source": [
    "# Splitting one document\n",
    "\n",
    "Now we are going to split the documents using the RecursiveCharacterTextSplitter from language Python and compare the document before and after the splitting."
   ],
   "metadata": {
    "collapsed": false
   }
  },
  {
   "cell_type": "code",
   "execution_count": 13,
   "outputs": [],
   "source": [
    "chunk_size = 1000\n",
    "chunk_overlap = 100\n",
    "python_splitter = RecursiveCharacterTextSplitter.from_language(\n",
    "    language=Language.PYTHON, chunk_size=chunk_size, chunk_overlap=chunk_overlap\n",
    ")"
   ],
   "metadata": {
    "collapsed": false,
    "ExecuteTime": {
     "end_time": "2023-11-28T17:06:22.573448Z",
     "start_time": "2023-11-28T17:06:22.568804Z"
    }
   }
  },
  {
   "cell_type": "code",
   "execution_count": 14,
   "outputs": [],
   "source": [
    "doc_1_splitted = python_splitter.split_documents([hummingbot_codebase[0]])"
   ],
   "metadata": {
    "collapsed": false,
    "ExecuteTime": {
     "end_time": "2023-11-28T17:06:22.866924Z",
     "start_time": "2023-11-28T17:06:22.860929Z"
    }
   }
  },
  {
   "cell_type": "code",
   "execution_count": 15,
   "outputs": [
    {
     "data": {
      "text/plain": "4"
     },
     "execution_count": 15,
     "metadata": {},
     "output_type": "execute_result"
    }
   ],
   "source": [
    "len(doc_1_splitted)"
   ],
   "metadata": {
    "collapsed": false,
    "ExecuteTime": {
     "end_time": "2023-11-28T17:06:23.042525Z",
     "start_time": "2023-11-28T17:06:23.036446Z"
    }
   }
  },
  {
   "cell_type": "code",
   "execution_count": 16,
   "outputs": [
    {
     "name": "stdout",
     "output_type": "stream",
     "text": [
      "('class MarketMakingDmanComposed(ScriptStrategyBase):\\n'\n",
      " '    trading_pairs = [\"XRP-USDT\"]\\n'\n",
      " '    position_side_by_trading_pair = {\\n'\n",
      " '        \"XRP-USDT\": TradeType.SELL,\\n'\n",
      " '    }\\n'\n",
      " '    leverage = 10\\n'\n",
      " '    triple_barrier_conf = TripleBarrierConf(\\n'\n",
      " '        stop_loss=Decimal(\"0.01\"), take_profit=Decimal(\"0.03\"),\\n'\n",
      " '        time_limit=60 * 60 * 6,\\n'\n",
      " '        trailing_stop_activation_price_delta=Decimal(\"0.008\"),\\n'\n",
      " '        trailing_stop_trailing_delta=Decimal(\"0.004\"),\\n'\n",
      " '        open_order_type=OrderType.MARKET\\n'\n",
      " '    )\\n'\n",
      " '\\n'\n",
      " '    order_levels = [\\n'\n",
      " '        OrderLevel(level=0, side=TradeType.BUY, '\n",
      " 'order_amount_usd=Decimal(\"20\"), order_refresh_time=60 * 5,\\n'\n",
      " '                   cooldown_time=15, '\n",
      " 'triple_barrier_conf=triple_barrier_conf),\\n'\n",
      " '        OrderLevel(level=0, side=TradeType.SELL, '\n",
      " 'order_amount_usd=Decimal(\"20\"), order_refresh_time=60 * 5,\\n'\n",
      " '                   cooldown_time=15, '\n",
      " 'triple_barrier_conf=triple_barrier_conf),\\n'\n",
      " '    ]\\n'\n",
      " '    controllers = {}\\n'\n",
      " '    markets = {}\\n'\n",
      " '    executor_handlers = {}')\n"
     ]
    }
   ],
   "source": [
    "pprint(doc_1_splitted[0].page_content)"
   ],
   "metadata": {
    "collapsed": false,
    "ExecuteTime": {
     "end_time": "2023-11-28T17:06:23.181598Z",
     "start_time": "2023-11-28T17:06:23.179465Z"
    }
   }
  },
  {
   "cell_type": "code",
   "execution_count": 17,
   "outputs": [
    {
     "name": "stdout",
     "output_type": "stream",
     "text": [
      "('for trading_pair in trading_pairs:\\n'\n",
      " '        config = CarlitoTFV1Config(\\n'\n",
      " '            exchange=\"binance_perpetual\",\\n'\n",
      " '            trading_pair=trading_pair,\\n'\n",
      " '            order_levels=order_levels,\\n'\n",
      " '            candles_config=[\\n'\n",
      " '                CandlesConfig(connector=\"binance_perpetual\", '\n",
      " 'trading_pair=trading_pair, interval=\"3m\", max_records=100),\\n'\n",
      " '            ],\\n'\n",
      " '            leverage=leverage,\\n'\n",
      " '            sma_fast=5,\\n'\n",
      " '            sma_slow=10,\\n'\n",
      " '            '\n",
      " 'position_side_allowed=position_side_by_trading_pair[trading_pair],\\n'\n",
      " '        )\\n'\n",
      " '        controller = CarlitoTFV1(config=config)\\n'\n",
      " '        markets = controller.update_strategy_markets_dict(markets)\\n'\n",
      " '        controllers[trading_pair] = controller\\n'\n",
      " '\\n'\n",
      " '    def __init__(self, connectors: Dict[str, ConnectorBase]):\\n'\n",
      " '        super().__init__(connectors)\\n'\n",
      " '        for trading_pair, controller in self.controllers.items():\\n'\n",
      " '            self.executor_handlers[trading_pair] = '\n",
      " 'DirectionalTradingExecutorHandler(strategy=self, controller=controller)')\n"
     ]
    }
   ],
   "source": [
    "pprint(doc_1_splitted[1].page_content)"
   ],
   "metadata": {
    "collapsed": false,
    "ExecuteTime": {
     "end_time": "2023-11-28T17:06:23.607716Z",
     "start_time": "2023-11-28T17:06:23.604710Z"
    }
   }
  },
  {
   "cell_type": "code",
   "execution_count": 18,
   "outputs": [
    {
     "name": "stdout",
     "output_type": "stream",
     "text": [
      "('def on_stop(self):\\n'\n",
      " '        for executor_handler in self.executor_handlers.values():\\n'\n",
      " '            executor_handler.stop()\\n'\n",
      " '\\n'\n",
      " '    def on_tick(self):\\n'\n",
      " '        \"\"\"\\n'\n",
      " '        This shows you how you can start meta controllers. You can run more '\n",
      " 'than one at the same time and based on the\\n'\n",
      " '        market conditions, you can orchestrate from this script when to stop '\n",
      " 'or start them.\\n'\n",
      " '        \"\"\"\\n'\n",
      " '        for executor_handler in self.executor_handlers.values():\\n'\n",
      " '            if executor_handler.status == '\n",
      " 'ExecutorHandlerStatus.NOT_STARTED:\\n'\n",
      " '                executor_handler.start()')\n"
     ]
    }
   ],
   "source": [
    "pprint(doc_1_splitted[2].page_content)"
   ],
   "metadata": {
    "collapsed": false,
    "ExecuteTime": {
     "end_time": "2023-11-28T17:06:23.982138Z",
     "start_time": "2023-11-28T17:06:23.978709Z"
    }
   }
  },
  {
   "cell_type": "code",
   "execution_count": 19,
   "outputs": [
    {
     "name": "stdout",
     "output_type": "stream",
     "text": [
      "('def format_status(self) -> str:\\n'\n",
      " '        if not self.ready_to_trade:\\n'\n",
      " '            return \"Market connectors are not ready.\"\\n'\n",
      " '        lines = []\\n'\n",
      " '        for trading_pair, executor_handler in '\n",
      " 'self.executor_handlers.items():\\n'\n",
      " '            if executor_handler.controller.all_candles_ready:\\n'\n",
      " '                lines.extend(\\n'\n",
      " '                    [f\"Strategy: '\n",
      " '{executor_handler.controller.config.strategy_name} | Trading Pair: '\n",
      " '{trading_pair}\",\\n'\n",
      " '                     executor_handler.to_format_status()])\\n'\n",
      " '        return \"\\\\n\".join(lines)')\n"
     ]
    }
   ],
   "source": [
    "pprint(doc_1_splitted[3].page_content)"
   ],
   "metadata": {
    "collapsed": false,
    "ExecuteTime": {
     "end_time": "2023-11-28T17:06:24.554897Z",
     "start_time": "2023-11-28T17:06:24.548384Z"
    }
   }
  },
  {
   "cell_type": "markdown",
   "source": [
    "# Splitting all the documents\n",
    "\n",
    "We are going to apply the split all documents and see how many documents we get."
   ],
   "metadata": {
    "collapsed": false
   }
  },
  {
   "cell_type": "code",
   "execution_count": 20,
   "outputs": [],
   "source": [
    "all_documents = python_splitter.split_documents(hummingbot_codebase)"
   ],
   "metadata": {
    "collapsed": false,
    "ExecuteTime": {
     "end_time": "2023-11-28T17:06:25.423002Z",
     "start_time": "2023-11-28T17:06:25.421524Z"
    }
   }
  },
  {
   "cell_type": "code",
   "execution_count": 21,
   "outputs": [
    {
     "data": {
      "text/plain": "556"
     },
     "execution_count": 21,
     "metadata": {},
     "output_type": "execute_result"
    }
   ],
   "source": [
    "len(all_documents)"
   ],
   "metadata": {
    "collapsed": false,
    "ExecuteTime": {
     "end_time": "2023-11-28T17:06:25.786733Z",
     "start_time": "2023-11-28T17:06:25.780793Z"
    }
   }
  },
  {
   "cell_type": "code",
   "execution_count": 22,
   "outputs": [
    {
     "name": "stdout",
     "output_type": "stream",
     "text": [
      "('class MarketMakingDmanComposed(ScriptStrategyBase):\\n'\n",
      " '    trading_pairs = [\"XRP-USDT\"]\\n'\n",
      " '    position_side_by_trading_pair = {\\n'\n",
      " '        \"XRP-USDT\": TradeType.SELL,\\n'\n",
      " '    }\\n'\n",
      " '    leverage = 10\\n'\n",
      " '    triple_barrier_conf = TripleBarrierConf(\\n'\n",
      " '        stop_loss=Decimal(\"0.01\"), take_profit=Decimal(\"0.03\"),\\n'\n",
      " '        time_limit=60 * 60 * 6,\\n'\n",
      " '        trailing_stop_activation_price_delta=Decimal(\"0.008\"),\\n'\n",
      " '        trailing_stop_trailing_delta=Decimal(\"0.004\"),\\n'\n",
      " '        open_order_type=OrderType.MARKET\\n'\n",
      " '    )\\n'\n",
      " '\\n'\n",
      " '    order_levels = [\\n'\n",
      " '        OrderLevel(level=0, side=TradeType.BUY, '\n",
      " 'order_amount_usd=Decimal(\"20\"), order_refresh_time=60 * 5,\\n'\n",
      " '                   cooldown_time=15, '\n",
      " 'triple_barrier_conf=triple_barrier_conf),\\n'\n",
      " '        OrderLevel(level=0, side=TradeType.SELL, '\n",
      " 'order_amount_usd=Decimal(\"20\"), order_refresh_time=60 * 5,\\n'\n",
      " '                   cooldown_time=15, '\n",
      " 'triple_barrier_conf=triple_barrier_conf),\\n'\n",
      " '    ]\\n'\n",
      " '    controllers = {}\\n'\n",
      " '    markets = {}\\n'\n",
      " '    executor_handlers = {}')\n"
     ]
    }
   ],
   "source": [
    "pprint(all_documents[0].page_content)"
   ],
   "metadata": {
    "collapsed": false,
    "ExecuteTime": {
     "end_time": "2023-11-28T17:06:26.309712Z",
     "start_time": "2023-11-28T17:06:26.305727Z"
    }
   }
  },
  {
   "cell_type": "code",
   "execution_count": 23,
   "outputs": [
    {
     "name": "stdout",
     "output_type": "stream",
     "text": [
      "('for trading_pair in trading_pairs:\\n'\n",
      " '        config = CarlitoTFV1Config(\\n'\n",
      " '            exchange=\"binance_perpetual\",\\n'\n",
      " '            trading_pair=trading_pair,\\n'\n",
      " '            order_levels=order_levels,\\n'\n",
      " '            candles_config=[\\n'\n",
      " '                CandlesConfig(connector=\"binance_perpetual\", '\n",
      " 'trading_pair=trading_pair, interval=\"3m\", max_records=100),\\n'\n",
      " '            ],\\n'\n",
      " '            leverage=leverage,\\n'\n",
      " '            sma_fast=5,\\n'\n",
      " '            sma_slow=10,\\n'\n",
      " '            '\n",
      " 'position_side_allowed=position_side_by_trading_pair[trading_pair],\\n'\n",
      " '        )\\n'\n",
      " '        controller = CarlitoTFV1(config=config)\\n'\n",
      " '        markets = controller.update_strategy_markets_dict(markets)\\n'\n",
      " '        controllers[trading_pair] = controller\\n'\n",
      " '\\n'\n",
      " '    def __init__(self, connectors: Dict[str, ConnectorBase]):\\n'\n",
      " '        super().__init__(connectors)\\n'\n",
      " '        for trading_pair, controller in self.controllers.items():\\n'\n",
      " '            self.executor_handlers[trading_pair] = '\n",
      " 'DirectionalTradingExecutorHandler(strategy=self, controller=controller)')\n"
     ]
    }
   ],
   "source": [
    "pprint(all_documents[1].page_content)"
   ],
   "metadata": {
    "collapsed": false,
    "ExecuteTime": {
     "end_time": "2023-11-28T17:06:26.541491Z",
     "start_time": "2023-11-28T17:06:26.535984Z"
    }
   }
  },
  {
   "cell_type": "code",
   "execution_count": 24,
   "outputs": [
    {
     "name": "stdout",
     "output_type": "stream",
     "text": [
      "('def on_stop(self):\\n'\n",
      " '        for executor_handler in self.executor_handlers.values():\\n'\n",
      " '            executor_handler.stop()\\n'\n",
      " '\\n'\n",
      " '    def on_tick(self):\\n'\n",
      " '        \"\"\"\\n'\n",
      " '        This shows you how you can start meta controllers. You can run more '\n",
      " 'than one at the same time and based on the\\n'\n",
      " '        market conditions, you can orchestrate from this script when to stop '\n",
      " 'or start them.\\n'\n",
      " '        \"\"\"\\n'\n",
      " '        for executor_handler in self.executor_handlers.values():\\n'\n",
      " '            if executor_handler.status == '\n",
      " 'ExecutorHandlerStatus.NOT_STARTED:\\n'\n",
      " '                executor_handler.start()')\n"
     ]
    }
   ],
   "source": [
    "pprint(all_documents[2].page_content)"
   ],
   "metadata": {
    "collapsed": false,
    "ExecuteTime": {
     "end_time": "2023-11-28T17:06:26.941194Z",
     "start_time": "2023-11-28T17:06:26.938958Z"
    }
   }
  },
  {
   "cell_type": "code",
   "execution_count": 25,
   "outputs": [
    {
     "name": "stdout",
     "output_type": "stream",
     "text": [
      "('def format_status(self) -> str:\\n'\n",
      " '        if not self.ready_to_trade:\\n'\n",
      " '            return \"Market connectors are not ready.\"\\n'\n",
      " '        lines = []\\n'\n",
      " '        for trading_pair, executor_handler in '\n",
      " 'self.executor_handlers.items():\\n'\n",
      " '            if executor_handler.controller.all_candles_ready:\\n'\n",
      " '                lines.extend(\\n'\n",
      " '                    [f\"Strategy: '\n",
      " '{executor_handler.controller.config.strategy_name} | Trading Pair: '\n",
      " '{trading_pair}\",\\n'\n",
      " '                     executor_handler.to_format_status()])\\n'\n",
      " '        return \"\\\\n\".join(lines)')\n"
     ]
    }
   ],
   "source": [
    "pprint(all_documents[3].page_content)"
   ],
   "metadata": {
    "collapsed": false,
    "ExecuteTime": {
     "end_time": "2023-11-28T17:06:27.188913Z",
     "start_time": "2023-11-28T17:06:27.181669Z"
    }
   }
  },
  {
   "cell_type": "markdown",
   "source": [
    "# Testing different values to split the code"
   ],
   "metadata": {
    "collapsed": false
   }
  },
  {
   "cell_type": "markdown",
   "source": [
    "## Same Chunk Size and different overlap"
   ],
   "metadata": {
    "collapsed": false
   }
  },
  {
   "cell_type": "code",
   "execution_count": 26,
   "outputs": [],
   "source": [
    "splitter_1 = RecursiveCharacterTextSplitter.from_language(\n",
    "    language=Language.PYTHON, chunk_size=1000, chunk_overlap=50\n",
    ")\n",
    "splitter_2 = RecursiveCharacterTextSplitter.from_language(\n",
    "    language=Language.PYTHON, chunk_size=1000, chunk_overlap=100\n",
    ")\n",
    "splitter_3 = RecursiveCharacterTextSplitter.from_language(\n",
    "    language=Language.PYTHON, chunk_size=1000, chunk_overlap=300,\n",
    ")"
   ],
   "metadata": {
    "collapsed": false,
    "ExecuteTime": {
     "end_time": "2023-11-28T17:06:28.376947Z",
     "start_time": "2023-11-28T17:06:28.372324Z"
    }
   }
  },
  {
   "cell_type": "code",
   "execution_count": 27,
   "outputs": [],
   "source": [
    "all_documents_1 = splitter_1.split_documents(hummingbot_codebase)\n",
    "all_documents_2 = splitter_2.split_documents(hummingbot_codebase)\n",
    "all_documents_3 = splitter_3.split_documents(hummingbot_codebase)"
   ],
   "metadata": {
    "collapsed": false,
    "ExecuteTime": {
     "end_time": "2023-11-28T17:06:28.690294Z",
     "start_time": "2023-11-28T17:06:28.689212Z"
    }
   }
  },
  {
   "cell_type": "code",
   "execution_count": 28,
   "outputs": [
    {
     "name": "stdout",
     "output_type": "stream",
     "text": [
      "Splitter 1: 555\n",
      "Splitter 2: 556\n",
      "Splitter 3: 577\n"
     ]
    }
   ],
   "source": [
    "print(f\"Splitter 1: {len(all_documents_1)}\"\n",
    "      f\"\\nSplitter 2: {len(all_documents_2)}\"\n",
    "      f\"\\nSplitter 3: {len(all_documents_3)}\")"
   ],
   "metadata": {
    "collapsed": false,
    "ExecuteTime": {
     "end_time": "2023-11-28T17:06:28.876225Z",
     "start_time": "2023-11-28T17:06:28.871998Z"
    }
   }
  },
  {
   "cell_type": "markdown",
   "source": [
    "## Same Overlap and different chunk size"
   ],
   "metadata": {
    "collapsed": false
   }
  },
  {
   "cell_type": "code",
   "execution_count": 29,
   "outputs": [],
   "source": [
    "splitter_1 = RecursiveCharacterTextSplitter.from_language(\n",
    "    language=Language.PYTHON, chunk_size=1000, chunk_overlap=200\n",
    ")\n",
    "splitter_2 = RecursiveCharacterTextSplitter.from_language(\n",
    "    language=Language.PYTHON, chunk_size=2000, chunk_overlap=200\n",
    ")\n",
    "splitter_3 = RecursiveCharacterTextSplitter.from_language(\n",
    "    language=Language.PYTHON, chunk_size=5000, chunk_overlap=200,\n",
    ")"
   ],
   "metadata": {
    "collapsed": false,
    "ExecuteTime": {
     "end_time": "2023-11-28T17:06:29.708180Z",
     "start_time": "2023-11-28T17:06:29.703330Z"
    }
   }
  },
  {
   "cell_type": "code",
   "execution_count": 30,
   "outputs": [],
   "source": [
    "all_documents_1 = splitter_1.split_documents(hummingbot_codebase)\n",
    "all_documents_2 = splitter_2.split_documents(hummingbot_codebase)\n",
    "all_documents_3 = splitter_3.split_documents(hummingbot_codebase)"
   ],
   "metadata": {
    "collapsed": false,
    "ExecuteTime": {
     "end_time": "2023-11-28T17:06:29.964357Z",
     "start_time": "2023-11-28T17:06:29.962847Z"
    }
   }
  },
  {
   "cell_type": "code",
   "execution_count": 31,
   "outputs": [
    {
     "name": "stdout",
     "output_type": "stream",
     "text": [
      "Splitter 1: 566\n",
      "Splitter 2: 293\n",
      "Splitter 3: 156\n"
     ]
    }
   ],
   "source": [
    "print(f\"Splitter 1: {len(all_documents_1)}\"\n",
    "      f\"\\nSplitter 2: {len(all_documents_2)}\"\n",
    "      f\"\\nSplitter 3: {len(all_documents_3)}\")"
   ],
   "metadata": {
    "collapsed": false,
    "ExecuteTime": {
     "end_time": "2023-11-28T17:06:30.128044Z",
     "start_time": "2023-11-28T17:06:30.122307Z"
    }
   }
  },
  {
   "cell_type": "markdown",
   "source": [
    "# Conclusion\n",
    "\n",
    "We can see that the loader with the parser of Python is working as expected, for each file we have a simplified code version and the function classes are separated from the rest of the code.\n",
    "Also, we can see that the splitter is working as expected, we can split the code in different ways and we can see that the number of files generated is different.\n",
    "\n",
    "Techniques conclusion:\n",
    "* The original load generates 108 files.\n",
    "* The splitter with chunk_size=1000 and chunk_overlap=100 generates 520 files.\n",
    "* Changing the overlap does not affect so much the quantity of docs as the chunk size\n",
    "* With chunk size of 2000 we get 277 files and I think that they are well distributed"
   ],
   "metadata": {
    "collapsed": false
   }
  },
  {
   "cell_type": "code",
   "execution_count": 32,
   "outputs": [
    {
     "name": "stdout",
     "output_type": "stream",
     "text": [
      "('class MarketMakingDmanComposed(ScriptStrategyBase):\\n'\n",
      " '    trading_pairs = [\"XRP-USDT\"]\\n'\n",
      " '    position_side_by_trading_pair = {\\n'\n",
      " '        \"XRP-USDT\": TradeType.SELL,\\n'\n",
      " '    }\\n'\n",
      " '    leverage = 10\\n'\n",
      " '    triple_barrier_conf = TripleBarrierConf(\\n'\n",
      " '        stop_loss=Decimal(\"0.01\"), take_profit=Decimal(\"0.03\"),\\n'\n",
      " '        time_limit=60 * 60 * 6,\\n'\n",
      " '        trailing_stop_activation_price_delta=Decimal(\"0.008\"),\\n'\n",
      " '        trailing_stop_trailing_delta=Decimal(\"0.004\"),\\n'\n",
      " '        open_order_type=OrderType.MARKET\\n'\n",
      " '    )\\n'\n",
      " '\\n'\n",
      " '    order_levels = [\\n'\n",
      " '        OrderLevel(level=0, side=TradeType.BUY, '\n",
      " 'order_amount_usd=Decimal(\"20\"), order_refresh_time=60 * 5,\\n'\n",
      " '                   cooldown_time=15, '\n",
      " 'triple_barrier_conf=triple_barrier_conf),\\n'\n",
      " '        OrderLevel(level=0, side=TradeType.SELL, '\n",
      " 'order_amount_usd=Decimal(\"20\"), order_refresh_time=60 * 5,\\n'\n",
      " '                   cooldown_time=15, '\n",
      " 'triple_barrier_conf=triple_barrier_conf),\\n'\n",
      " '    ]\\n'\n",
      " '    controllers = {}\\n'\n",
      " '    markets = {}\\n'\n",
      " '    executor_handlers = {}\\n'\n",
      " '\\n'\n",
      " '    for trading_pair in trading_pairs:\\n'\n",
      " '        config = CarlitoTFV1Config(\\n'\n",
      " '            exchange=\"binance_perpetual\",\\n'\n",
      " '            trading_pair=trading_pair,\\n'\n",
      " '            order_levels=order_levels,\\n'\n",
      " '            candles_config=[\\n'\n",
      " '                CandlesConfig(connector=\"binance_perpetual\", '\n",
      " 'trading_pair=trading_pair, interval=\"3m\", max_records=100),\\n'\n",
      " '            ],\\n'\n",
      " '            leverage=leverage,\\n'\n",
      " '            sma_fast=5,\\n'\n",
      " '            sma_slow=10,\\n'\n",
      " '            '\n",
      " 'position_side_allowed=position_side_by_trading_pair[trading_pair],\\n'\n",
      " '        )\\n'\n",
      " '        controller = CarlitoTFV1(config=config)\\n'\n",
      " '        markets = controller.update_strategy_markets_dict(markets)\\n'\n",
      " '        controllers[trading_pair] = controller\\n'\n",
      " '\\n'\n",
      " '    def __init__(self, connectors: Dict[str, ConnectorBase]):\\n'\n",
      " '        super().__init__(connectors)\\n'\n",
      " '        for trading_pair, controller in self.controllers.items():\\n'\n",
      " '            self.executor_handlers[trading_pair] = '\n",
      " 'DirectionalTradingExecutorHandler(strategy=self, controller=controller)')\n"
     ]
    }
   ],
   "source": [
    "pprint(all_documents_2[0].page_content)"
   ],
   "metadata": {
    "collapsed": false,
    "ExecuteTime": {
     "end_time": "2023-11-28T17:06:30.885681Z",
     "start_time": "2023-11-28T17:06:30.881952Z"
    }
   }
  }
 ],
 "metadata": {
  "kernelspec": {
   "display_name": "Python 3",
   "language": "python",
   "name": "python3"
  },
  "language_info": {
   "codemirror_mode": {
    "name": "ipython",
    "version": 2
   },
   "file_extension": ".py",
   "mimetype": "text/x-python",
   "name": "python",
   "nbconvert_exporter": "python",
   "pygments_lexer": "ipython2",
   "version": "2.7.6"
  }
 },
 "nbformat": 4,
 "nbformat_minor": 0
}
